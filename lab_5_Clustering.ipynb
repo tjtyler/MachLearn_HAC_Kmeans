{
  "cells": [
    {
      "cell_type": "markdown",
      "metadata": {
        "id": "view-in-github",
        "colab_type": "text"
      },
      "source": [
        "<a href=\"https://colab.research.google.com/github/tjtyler/MachLearn_HAC_Kmeans/blob/main/lab_5_Clustering.ipynb\" target=\"_parent\"><img src=\"https://colab.research.google.com/assets/colab-badge.svg\" alt=\"Open In Colab\"/></a>"
      ]
    },
    {
      "cell_type": "markdown",
      "metadata": {
        "id": "DVL7_bgmIAPR"
      },
      "source": [
        "# Unsupervised Learning: Clustering Lab\n",
        "\n",
        "\n",
        "\n"
      ]
    },
    {
      "cell_type": "code",
      "execution_count": null,
      "metadata": {
        "id": "6ZbYjZZZ_yLV"
      },
      "outputs": [],
      "source": [
        "from sklearn.base import BaseEstimator, ClassifierMixin\n",
        "from sklearn.cluster import AgglomerativeClustering, KMeans\n",
        "from sklearn.metrics import silhouette_score\n",
        "from sklearn.base import ClusterMixin\n",
        "import numpy as np\n",
        "import matplotlib.pyplot as plt\n",
        "import random\n",
        "from numpy.random import default_rng"
      ]
    },
    {
      "cell_type": "code",
      "source": [
        "# pip install ipdb"
      ],
      "metadata": {
        "id": "Qj4dzdwDpMoG"
      },
      "execution_count": null,
      "outputs": []
    },
    {
      "cell_type": "code",
      "source": [
        "from google.colab import drive\n",
        "drive.mount('/content/drive')"
      ],
      "metadata": {
        "colab": {
          "base_uri": "https://localhost:8080/"
        },
        "id": "szFqvhK9owBp",
        "outputId": "e29c9019-43b0-4d26-81c0-e713763ded79"
      },
      "execution_count": null,
      "outputs": [
        {
          "output_type": "stream",
          "name": "stdout",
          "text": [
            "Mounted at /content/drive\n"
          ]
        }
      ]
    },
    {
      "cell_type": "code",
      "source": [
        "# --------- DEBUG STUFF FOR PRINT FUNCTION ------------- #\n",
        "k = 3\n",
        "X = np.random.rand(20,5)\n",
        "print('X:\\n', X)\n",
        "labels = np.array([0,0,1,2,1])\n",
        "for i in range(k):\n",
        "  clus_i_indcs = np.where(labels==i)\n",
        "  print('clus_i_indcs:\\n',clus_i_indcs[0])\n",
        "  pnts_in_clus_i = X[clus_i_indcs[0],:]\n",
        "  print('pnts_in_clus_i:\\n', pnts_in_clus_i)\n",
        "  centroid_i = np.mean(pnts_in_clus_i, axis=0)\n",
        "  print('centroid_i:\\n', centroid_i)\n"
      ],
      "metadata": {
        "id": "VS3Eo-zEWW_w"
      },
      "execution_count": null,
      "outputs": []
    },
    {
      "cell_type": "markdown",
      "metadata": {
        "id": "sCcEPx5VIORj"
      },
      "source": [
        "## 1. (50%) Implement the k-means clustering algorithm and the HAC (Hierarchical Agglomerative Clustering) algorithm.\n",
        "\n",
        "### 1.1.1 HAC\n",
        "\n",
        "### Code requirements \n",
        "- HAC should support both single link and complete link options.\n",
        "- HAC automatically generates all clusterings from n to 1.  To simplify the amount of output you may want to implement a mechanism to specify for which k values actual output will be generated.\n",
        "\n",
        "\n",
        "---\n",
        "The output should include the following:\n",
        "- The number of clusters (k).\n",
        "- The silhouette score of the full clustering. (You can either write and use your own silhouette_score function (extra credit) or use sklearn's)\n",
        "\n",
        "\n",
        "For each cluster report include:\n",
        "\n",
        "\n",
        "- The centroid id.\n",
        "- The number of instances tied to that centroid. \n",
        "---"
      ]
    },
    {
      "cell_type": "code",
      "execution_count": null,
      "metadata": {
        "id": "_a2KSZ_7AN0G"
      },
      "outputs": [],
      "source": [
        "from scipy.spatial import distance\n",
        "import math\n",
        "# import ipdb; \n",
        "class HACClustering(BaseEstimator,ClusterMixin):\n",
        "\n",
        "    def __init__(self,k=3,link_type='single',dist_type='manhattan'): ## add parameters here\n",
        "        \"\"\"\n",
        "        Args:\n",
        "            k = how many final clusters to have\n",
        "            link_type = single or complete. when combining two clusters use complete link or single link\n",
        "        \"\"\"\n",
        "        self.link_type = link_type\n",
        "        self.k = k\n",
        "        self.dist_type = dist_type\n",
        "        self.silhouette_score = None\n",
        "        \n",
        "    def fit(self, X, y=None):\n",
        "      \"\"\" Fit the data; In this lab this will make the K clusters :D\n",
        "      Args:\n",
        "          X (array-like): A 2D numpy array with the training data\n",
        "          y (array-like): An optional argument. Clustering is usually unsupervised so you don't need labels\n",
        "      Returns:\n",
        "          self: this allows this to be chained, e.g. model.fit(X,y).predict(X_test)\n",
        "      \"\"\"\n",
        "      self.clus_labels = np.arange(X.shape[0])\n",
        "      self.dist_mat = distance.cdist(X, X, metric='euclidean') \n",
        "      while len(np.unique(self.clus_labels)) > self.k:\n",
        "        # ipdb.set_trace()\n",
        "        min_A_label = None\n",
        "        min_dist_bssf = math.inf\n",
        "        min_B_ind = None\n",
        "\n",
        "        temp_dist = None\n",
        "        for i in range(len(np.unique(self.clus_labels)) -1):\n",
        "          A_label = np.unique(self.clus_labels)[i]\n",
        "          A_ind = np.where(self.clus_labels==A_label)\n",
        "\n",
        "          for j in range(i+1,len(np.unique(self.clus_labels))):\n",
        "            B_label = np.unique(self.clus_labels)[j]\n",
        "            B_ind = np.where(self.clus_labels==B_label)\n",
        "\n",
        "            AB_dist_mat = self.dist_mat[A_ind][:,B_ind]\n",
        "\n",
        "            if self.link_type == 'single':\n",
        "              temp_dist = np.min(AB_dist_mat)\n",
        "            else:\n",
        "              temp_dist = np.max(AB_dist_mat)\n",
        "            if temp_dist < min_dist_bssf:\n",
        "              min_dist_bssf = temp_dist\n",
        "              min_A_label = A_label\n",
        "              min_B_ind= B_ind\n",
        "\n",
        "        self.clus_labels[min_B_ind] = min_A_label\n",
        "\n",
        "      self.silhouette_score = silhouette_score(X, self.clus_labels)\n",
        "      return self\n",
        "\n",
        "    def init_clusters(self,X):\n",
        "      clusters = []\n",
        "      for i in range(X.shape[0]):\n",
        "        clusters.append([i])\n",
        "      return clusters\n",
        "    \n",
        "    def print_clusters(self,X):\n",
        "        \"\"\"\n",
        "            Used for grading.\n",
        "            print(\"Num clusters: {:d}\\n\".format(k))\n",
        "            print(\"Silhouette score: {:.4f}\\n\\n\".format(silhouette_score))\n",
        "            for each cluster and centroid:\n",
        "                print(np.array2string(centroid,precision=4,separator=\",\"))\n",
        "                print(\"{:d}\\n\".format(size of cluster))\n",
        "        \"\"\"\n",
        "        print(\"Num clusters: {:d}\\n\".format(self.k))\n",
        "        print(\"Silhouette score: {:.4f}\\n\\n\".format(self.silhouette_score))\n",
        "        i = 0\n",
        "        for unique_val in np.unique(self.clus_labels):\n",
        "          clus_i_indices = np.where(self.clus_labels==unique_val)[0]\n",
        "          pnts_in_clus_i = X[clus_i_indices,:]\n",
        "          centroid_i = np.mean(pnts_in_clus_i,axis=0)\n",
        "          print(f'centroid of cluster {i}:')\n",
        "          print(np.array2string(centroid_i,precision=4,separator=\",\"))\n",
        "          print(\"size of cluster: {:d}\\n\".format(pnts_in_clus_i.shape[0]))\n",
        "\n",
        "          i += 1"
      ]
    },
    {
      "cell_type": "markdown",
      "metadata": {
        "id": "KibCIXIThpbE"
      },
      "source": [
        "### 1.1.2 Debug \n",
        "\n",
        "Debug your model by running it on the [Debug Abalone Dataset](https://byu.instructure.com/courses/14142/files?preview=4735805)\n",
        "\n",
        "\n",
        "---\n",
        "The dataset was modified to be a lot smaller. The last datapoint should be on line 359 or the point 0.585,0.46,0.185,0.922,0.3635,0.213,0.285,10. The remaining points should be commented out.\n",
        "\n",
        "\n",
        "- Make sure to include the output class (last column) as an additional input feature\n",
        "- Normalize Data\n",
        "- K = 5\n",
        "- Use 4 decimal places and DO NOT ROUND when reporting silhouette score and centroid values.\n",
        "\n",
        "\n",
        "---\n",
        "Solutions in files:\n",
        "\n",
        "[Debug HAC Single (Silhouette).txt](https://byu.instructure.com/courses/14142/files?preview=4735819)\n",
        "\n",
        "[Debug HAC Complete (Silhouette).txt](https://byu.instructure.com/courses/14142/files?preview=4735820)"
      ]
    },
    {
      "cell_type": "code",
      "execution_count": null,
      "metadata": {
        "id": "mj1uxSt4oXya",
        "colab": {
          "base_uri": "https://localhost:8080/"
        },
        "outputId": "e7e341fc-ec36-4c35-b945-8a525520d32c"
      },
      "outputs": [
        {
          "output_type": "stream",
          "name": "stdout",
          "text": [
            "Num clusters: 5\n",
            "\n",
            "Silhouette score: 0.3453\n",
            "\n",
            "\n",
            "centroid of cluster 0:\n",
            "[0.599 ,0.5923,0.4915,0.2826,0.2682,0.2921,0.2316,0.3849]\n",
            "size of cluster: 195\n",
            "\n",
            "centroid of cluster 1:\n",
            "[0.9189,0.9438,0.7105,0.7016,0.759 ,0.7222,0.4472,0.8824]\n",
            "size of cluster: 1\n",
            "\n",
            "centroid of cluster 2:\n",
            "[1.    ,0.9831,0.8026,0.8343,0.6575,0.7825,0.9221,0.8824]\n",
            "size of cluster: 2\n",
            "\n",
            "centroid of cluster 3:\n",
            "[1.    ,0.9888,0.7895,1.    ,1.    ,0.8915,0.7186,0.5882]\n",
            "size of cluster: 1\n",
            "\n",
            "centroid of cluster 4:\n",
            "[0.9189,0.9888,0.8684,0.719 ,0.5797,0.7512,0.6432,0.9412]\n",
            "size of cluster: 1\n",
            "\n"
          ]
        }
      ],
      "source": [
        "# Debug Here\n",
        "from scipy.io.arff import loadarff \n",
        "import pandas as pd\n",
        "from sklearn.preprocessing import LabelEncoder\n",
        "from sklearn.preprocessing import MinMaxScaler\n",
        "# Load data\n",
        "raw_data = loadarff('/content/drive/MyDrive/School/CS_472_MachLearning/labs/lab5_clustering/data/abalone.arff')\n",
        "df_data = pd.DataFrame(raw_data[0])\n",
        "\n",
        "np_arr = df_data.to_numpy()\n",
        "\n",
        "X = np_arr[:,:].astype(float)\n",
        "X = MinMaxScaler().fit_transform(X)\n",
        "\n",
        "hac = HACClustering(k=5,link_type='single',dist_type='euclidean')\n",
        "hac.fit(X)\n",
        "\n",
        "hac.print_clusters(X)\n"
      ]
    },
    {
      "cell_type": "markdown",
      "source": [
        "#Single Link Debug Solution\n",
        "![image.png](data:image/png;base64,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)"
      ],
      "metadata": {
        "id": "r4z0SeOAYcSF"
      }
    },
    {
      "cell_type": "code",
      "source": [
        "# Debug Here\n",
        "from scipy.io.arff import loadarff \n",
        "import pandas as pd\n",
        "from sklearn.preprocessing import LabelEncoder\n",
        "from sklearn.preprocessing import MinMaxScaler\n",
        "# Load data\n",
        "raw_data = loadarff('/content/drive/MyDrive/School/CS_472_MachLearning/labs/lab5_clustering/data/abalone.arff')\n",
        "df_data = pd.DataFrame(raw_data[0])\n",
        "\n",
        "np_arr = df_data.to_numpy()\n",
        "\n",
        "X = np_arr[:,:].astype(float)\n",
        "X = MinMaxScaler().fit_transform(X)\n",
        "\n",
        "hac = HACClustering(k=5,link_type='complete',dist_type='euclidean')\n",
        "hac.fit(X)\n",
        "\n",
        "hac.print_clusters(X)"
      ],
      "metadata": {
        "colab": {
          "base_uri": "https://localhost:8080/"
        },
        "id": "TAuW3fwhdgsg",
        "outputId": "0a3e1c62-2ef7-4942-8fec-c34b0ba41515"
      },
      "execution_count": null,
      "outputs": [
        {
          "output_type": "stream",
          "name": "stdout",
          "text": [
            "Num clusters: 5\n",
            "\n",
            "Silhouette score: 0.3095\n",
            "\n",
            "\n",
            "centroid of cluster 0:\n",
            "[0.6544,0.649 ,0.5256,0.2879,0.2815,0.3057,0.2288,0.3911]\n",
            "size of cluster: 71\n",
            "\n",
            "centroid of cluster 1:\n",
            "[0.3661,0.3505,0.271 ,0.1008,0.1024,0.1058,0.0836,0.2116]\n",
            "size of cluster: 67\n",
            "\n",
            "centroid of cluster 2:\n",
            "[0.7622,0.7658,0.6759,0.4265,0.4016,0.4536,0.3376,0.5217]\n",
            "size of cluster: 38\n",
            "\n",
            "centroid of cluster 3:\n",
            "[0.8818,0.8904,0.7582,0.614 ,0.5433,0.5317,0.561 ,0.7794]\n",
            "size of cluster: 16\n",
            "\n",
            "centroid of cluster 4:\n",
            "[0.9471,0.934 ,0.8158,0.7457,0.6434,0.7944,0.6457,0.625 ]\n",
            "size of cluster: 8\n",
            "\n"
          ]
        }
      ]
    },
    {
      "cell_type": "markdown",
      "source": [
        "#Complete Link Debug Solution\n",
        "![image.png](data:image/png;base64,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)"
      ],
      "metadata": {
        "id": "OjuLXl-ldhkP"
      }
    },
    {
      "cell_type": "markdown",
      "metadata": {
        "id": "kY3VNB1ui03N"
      },
      "source": [
        "### 1.1.3 Evaluation\n",
        "\n",
        "We will evaluate your model based on its print_clusters() output using [Evaluation Seismic-bumps_train Dataset](https://byu.instructure.com/courses/14142/files?preview=4735829)\n",
        "\n",
        "- Make sure to include the output class (last column) as an additional input feature\n",
        "- Normalize Data\n",
        "- K = 5\n",
        "- Use 4 decimal places and DO NOT ROUND when reporting silhouette score and centroid values."
      ]
    },
    {
      "cell_type": "markdown",
      "metadata": {
        "id": "gOQHwSyUoXyb"
      },
      "source": [
        "#### 1.1.3.1 Complete Link"
      ]
    },
    {
      "cell_type": "code",
      "execution_count": null,
      "metadata": {
        "id": "2yAxA78QjDh2",
        "colab": {
          "base_uri": "https://localhost:8080/"
        },
        "outputId": "9c5f0ce3-f020-46ad-ce0b-037c1b4b8bd8"
      },
      "outputs": [
        {
          "output_type": "stream",
          "name": "stdout",
          "text": [
            "Num clusters: 5\n",
            "\n",
            "Silhouette score: 0.2930\n",
            "\n",
            "\n",
            "centroid of cluster 0:\n",
            "[0.3636,0.4107,0.5609,0.3857,0.3937,0.2808,0.3155,0.    ]\n",
            "size of cluster: 49\n",
            "\n",
            "centroid of cluster 1:\n",
            "[0.3471,0.3622,0.7897,0.279 ,0.441 ,0.8568,0.2234,0.    ]\n",
            "size of cluster: 3\n",
            "\n",
            "centroid of cluster 2:\n",
            "[0.1656,0.2226,0.3509,0.2328,0.152 ,0.3424,0.1918,0.    ]\n",
            "size of cluster: 18\n",
            "\n",
            "centroid of cluster 3:\n",
            "[0.7918,0.8268,0.606 ,0.7669,0.7787,0.4634,0.7877,1.    ]\n",
            "size of cluster: 49\n",
            "\n",
            "centroid of cluster 4:\n",
            "[0.5326,0.6002,0.4536,0.5531,0.5144,0.5401,0.6266,1.    ]\n",
            "size of cluster: 21\n",
            "\n"
          ]
        }
      ],
      "source": [
        "from scipy.io.arff import loadarff \n",
        "import pandas as pd\n",
        "from sklearn.preprocessing import MinMaxScaler\n",
        "# Load evaluation data\n",
        "raw_data = loadarff('/content/drive/MyDrive/School/CS_472_MachLearning/labs/lab5_clustering/data/seismic-bumps_train.arff')\n",
        "df_data = pd.DataFrame(raw_data[0])\n",
        "\n",
        "np_arr = df_data.to_numpy()\n",
        "\n",
        "X = np_arr[:,:].astype(float)\n",
        "X = MinMaxScaler().fit_transform(X)\n",
        "\n",
        "hac = HACClustering(k=5,link_type='complete',dist_type='euclidean')\n",
        "# Train on evaluation data using complete link\n",
        "hac.fit(X)\n",
        "# Print clusters\n",
        "hac.print_clusters(X)"
      ]
    },
    {
      "cell_type": "markdown",
      "metadata": {
        "id": "OcFqaW71oXyc"
      },
      "source": [
        "#### 1.1.3.1 Single Link"
      ]
    },
    {
      "cell_type": "code",
      "execution_count": null,
      "metadata": {
        "id": "Z-5z9ZaxoXyd",
        "colab": {
          "base_uri": "https://localhost:8080/"
        },
        "outputId": "6e21a672-7292-4d59-c035-63affc9b9168"
      },
      "outputs": [
        {
          "output_type": "stream",
          "name": "stdout",
          "text": [
            "Num clusters: 5\n",
            "\n",
            "Silhouette score: 0.3971\n",
            "\n",
            "\n",
            "centroid of cluster 0:\n",
            "[0.3159,0.3648,0.5145,0.349 ,0.3338,0.3077,0.2868,0.    ]\n",
            "size of cluster: 67\n",
            "\n",
            "centroid of cluster 1:\n",
            "[0.2774,0.2597,1.    ,0.1224,0.4505,0.7549,0.129 ,0.    ]\n",
            "size of cluster: 1\n",
            "\n",
            "centroid of cluster 2:\n",
            "[0.3065,0.3333,0.6979,0.2792,0.3787,1.    ,0.2373,0.    ]\n",
            "size of cluster: 1\n",
            "\n",
            "centroid of cluster 3:\n",
            "[0.0884,0.1818,0.    ,0.145 ,0.1538,0.1245,0.    ,0.    ]\n",
            "size of cluster: 1\n",
            "\n",
            "centroid of cluster 4:\n",
            "[0.714 ,0.7588,0.5603,0.7028,0.6994,0.4864,0.7393,1.    ]\n",
            "size of cluster: 70\n",
            "\n"
          ]
        }
      ],
      "source": [
        "from scipy.io.arff import loadarff \n",
        "import pandas as pd\n",
        "from sklearn.preprocessing import MinMaxScaler\n",
        "# Load evaluation data\n",
        "raw_data = loadarff('/content/drive/MyDrive/School/CS_472_MachLearning/labs/lab5_clustering/data/seismic-bumps_train.arff')\n",
        "df_data = pd.DataFrame(raw_data[0])\n",
        "\n",
        "np_arr = df_data.to_numpy()\n",
        "\n",
        "X = np_arr[:,:].astype(float)\n",
        "X = MinMaxScaler().fit_transform(X)\n",
        "\n",
        "hac = HACClustering(k=5,link_type='single',dist_type='euclidean')\n",
        "# Train on evaluation data using single link\n",
        "hac.fit(X)\n",
        "# Print clusters\n",
        "hac.print_clusters(X)"
      ]
    },
    {
      "cell_type": "markdown",
      "metadata": {
        "id": "QoE_A-DQoXyd"
      },
      "source": [
        "### 1.2.1 K-Means\n",
        "\n",
        "### Code requirements \n",
        "- Ability to choose k and specify k initial centroids\n",
        "- Use Euclidean Distance as metric\n",
        "- Ability to handle distance ties\n",
        "- Include output label as a cluster feature\n",
        "\n",
        "\n",
        "---\n",
        "The output should include the following:\n",
        "- The number of clusters (k).\n",
        "- The silhouette score of the full clustering. (You can either write and use your own silhouette_score function (extra credit) or use sklearn's)\n",
        "\n",
        "\n",
        "For each cluster report include:\n",
        "\n",
        "\n",
        "- The centroid id.\n",
        "- The number of instances tied to that centroid. \n",
        "---\n",
        "You only need to handle continuous features"
      ]
    },
    {
      "cell_type": "code",
      "execution_count": 43,
      "metadata": {
        "id": "epXP-YTJoXyd"
      },
      "outputs": [],
      "source": [
        "import math\n",
        "class KMEANSClustering(BaseEstimator,ClusterMixin):\n",
        "\n",
        "    def __init__(self,k=3,debug=False): ## add parameters here\n",
        "        \"\"\"\n",
        "        Args:\n",
        "            k = how many final clusters to have\n",
        "            debug = if debug is true use the first k instances as the initial centroids otherwise choose random points as the initial centroids.\n",
        "        \"\"\"\n",
        "        self.k = k\n",
        "        self.debug = debug\n",
        "        self.clus_labels = np.array([math.inf])\n",
        "        self.epochs_to_converge = 0\n",
        "        self.silhouette_score = None\n",
        "\n",
        "    def fit(self, X, y=None):\n",
        "        \"\"\" Fit the data; In this lab this will make the K clusters :D\n",
        "        Args:\n",
        "            X (array-like): A 2D numpy array with the training data\n",
        "            y (array-like): An optional argument. Clustering is usually unsupervised so you don't need labels\n",
        "        Returns:\n",
        "            self: this allows this to be chained, e.g. model.fit(X,y).predict(X_test)\n",
        "        \"\"\"\n",
        "        # NORMALIZE X BEFORE PASSINGIN IT IN  \n",
        "\n",
        "        initial_centroids = None\n",
        "        if self.debug:\n",
        "          initial_centroids = X[:self.k,:].copy() # initial_centroids are the first k instances of X\n",
        "        else:\n",
        "          rng = default_rng()\n",
        "          indxs = rng.choice(X.shape[0], size=self.k, replace=False)\n",
        "          initial_centroids = X[indxs, :].copy()\n",
        "          # initial_centroids = np.random.rand(self.k, X.shape[1])\n",
        "\n",
        "        clus_labels = None\n",
        "        centroids = initial_centroids\n",
        "        converged = False\n",
        "        epochs = 0\n",
        "        prev_cent = initial_centroids\n",
        "        while not converged:\n",
        "    \n",
        "          dist_mat = distance.cdist(X, centroids, metric='euclidean')\n",
        "          dist_mat = dist_mat.T # transpose the matrix so that there are k rows and X.shape[0] columns\n",
        "\n",
        "          clus_labels = [] # entry i in inst_labels is the cluster to which row i of X belongs of the k clusters\n",
        "          for col in range(dist_mat.shape[1]):\n",
        "            clus_labels.append(np.argmin(dist_mat[:,col]))\n",
        "          clus_labels = np.array(clus_labels)\n",
        "          \n",
        "          centroids = []\n",
        "          # compute new centroids\n",
        "          for i in range(self.k):\n",
        "            clus_i_indices = np.where(clus_labels==i)[0]\n",
        "            pnts_in_clus_i = X[clus_i_indices,:]\n",
        "            centroid_i = np.mean(pnts_in_clus_i, axis=0)\n",
        "            centroids.append(centroid_i)\n",
        "          centroids = np.array(centroids)\n",
        "          \n",
        "          if np.array_equal(prev_cent, centroids):\n",
        "            converged = True\n",
        "            self.epochs_to_converge = epochs\n",
        "\n",
        "          prev_cent = centroids\n",
        "          self.clus_labels = clus_labels\n",
        "          epochs += 1\n",
        "\n",
        "        self.silhouette_score = silhouette_score(X, self.clus_labels)\n",
        "        return self\n",
        "    \n",
        "    def print_clusters(self,X):\n",
        "        \"\"\"\n",
        "            Used for grading.\n",
        "            print(\"Num clusters: {:d}\\n\".format(k))\n",
        "            print(\"Silhouette score: {:.4f}\\n\\n\".format(silhouette_score))\n",
        "            for each cluster and centroid:\n",
        "                print(np.array2string(centroid,precision=4,separator=\",\"))\n",
        "                print(\"{:d}\\n\".format(size of cluster))\n",
        "        \"\"\"\n",
        "        print(\"Num clusters: {:d}\\n\".format(self.k))\n",
        "        print('number of epochs/iterations to converge: ', self.epochs_to_converge)\n",
        "        print(\"Silhouette score: {:.4f}\\n\\n\".format(silhouette_score(X, self.clus_labels)))\n",
        "        \n",
        "        i = 0\n",
        "        for unique_val in np.unique(self.clus_labels):\n",
        "          clus_i_indices = np.where(self.clus_labels==unique_val)[0]\n",
        "          pnts_in_clus_i = X[clus_i_indices,:]\n",
        "          centroid_i = np.mean(pnts_in_clus_i,axis=0)\n",
        "          print(f'centroid of cluster {i}:')\n",
        "          print(np.array2string(centroid_i,precision=4,separator=\",\"))\n",
        "          print(\"size of cluster: {:d}\\n\".format(pnts_in_clus_i.shape[0]))\n",
        "\n",
        "          i += 1"
      ]
    },
    {
      "cell_type": "markdown",
      "metadata": {
        "id": "s9vxDhLEoXye"
      },
      "source": [
        "### 1.2.2 Debug \n",
        "\n",
        "Debug your model by running it on the [Debug Abalone Dataset](https://byu.instructure.com/courses/14142/files?preview=4735805)\n",
        "\n",
        "\n",
        "- Train until convergence\n",
        "- Make sure to include the output class (last column) as an additional input feature\n",
        "- Normalize Data\n",
        "- K = 5\n",
        "- Use the first k instances as the initial centroids\n",
        "- Use 4 decimal places and DO NOT ROUND when reporting silhouette score and centroid values\n",
        "\n",
        "\n",
        "\n",
        "\n",
        "---\n",
        "Solutions in files:\n",
        "\n",
        "[Debug K Means (Silhouette).txt](https://byu.instructure.com/courses/14142/files?preview=4735840)"
      ]
    },
    {
      "cell_type": "code",
      "execution_count": null,
      "metadata": {
        "id": "KgAyy82gixIF",
        "colab": {
          "base_uri": "https://localhost:8080/"
        },
        "outputId": "741ceb64-3e4c-47a0-e7c1-45068467df72"
      },
      "outputs": [
        {
          "output_type": "stream",
          "name": "stdout",
          "text": [
            "Num clusters: 5\n",
            "\n",
            "number of epochs/iterations to converge:  10\n",
            "Silhouette score: 0.3845\n",
            "\n",
            "\n",
            "centroid of cluster 0:\n",
            "[0.7325,0.7327,0.627 ,0.3817,0.3633,0.4045,0.3046,0.4839]\n",
            "size of cluster: 75\n",
            "\n",
            "centroid of cluster 1:\n",
            "[0.3704,0.3519,0.2686,0.0926,0.0935,0.094 ,0.0792,0.218 ]\n",
            "size of cluster: 34\n",
            "\n",
            "centroid of cluster 2:\n",
            "[0.9035,0.905 ,0.7774,0.6579,0.5767,0.6193,0.5893,0.7279]\n",
            "size of cluster: 24\n",
            "\n",
            "centroid of cluster 3:\n",
            "[0.5692,0.5628,0.4376,0.211 ,0.2113,0.2248,0.1659,0.317 ]\n",
            "size of cluster: 54\n",
            "\n",
            "centroid of cluster 4:\n",
            "[0.1296,0.1037,0.1053,0.0177,0.0211,0.0272,0.0135,0.0724]\n",
            "size of cluster: 13\n",
            "\n"
          ]
        }
      ],
      "source": [
        "from scipy.io.arff import loadarff \n",
        "import pandas as pd\n",
        "from sklearn.preprocessing import LabelEncoder\n",
        "from sklearn.preprocessing import MinMaxScaler\n",
        "# Load debug data\n",
        "raw_data = loadarff('/content/drive/MyDrive/School/CS_472_MachLearning/labs/lab5_clustering/data/abalone.arff')\n",
        "df_data = pd.DataFrame(raw_data[0])\n",
        "\n",
        "np_arr = df_data.to_numpy()\n",
        "\n",
        "X = np_arr[:,:].astype(float)\n",
        "X = MinMaxScaler().fit_transform(X)\n",
        "# Train on debug data\n",
        "KMeans = KMEANSClustering(k=5,debug=True)\n",
        "KMeans.fit(X)\n",
        "# Print clusters\n",
        "KMeans.print_clusters(X)"
      ]
    },
    {
      "cell_type": "markdown",
      "source": [
        "![image.png](data:image/png;base64,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)"
      ],
      "metadata": {
        "id": "Iu3UEozRtxky"
      }
    },
    {
      "cell_type": "markdown",
      "metadata": {
        "id": "iETnFixgoXyf"
      },
      "source": [
        "### 1.2.3 Evaluation\n",
        "\n",
        "We will evaluate your model based on its print_clusters() output using [Evaluation Seismic-bumps_train Dataset](https://byu.instructure.com/courses/14142/files?preview=4735829)\n",
        "- Train until convergence\n",
        "- Make sure to include the output class (last column) as an additional input feature\n",
        "- Normalize Data\n",
        "- K = 5\n",
        "- Use the first k instances as the initial centroids\n",
        "- Use 4 decimal places and DO NOT ROUND when reporting silhouette score and centroid values"
      ]
    },
    {
      "cell_type": "code",
      "execution_count": null,
      "metadata": {
        "id": "d6FXb9VWoXyf",
        "colab": {
          "base_uri": "https://localhost:8080/"
        },
        "outputId": "d1fe566f-9048-4bf0-ad1f-1802215c5ba3"
      },
      "outputs": [
        {
          "output_type": "stream",
          "name": "stdout",
          "text": [
            "Num clusters: 5\n",
            "\n",
            "number of epochs/iterations to converge:  9\n",
            "Silhouette score: 0.2769\n",
            "\n",
            "\n",
            "centroid of cluster 0:\n",
            "[0.5349,0.6013,0.4617,0.5541,0.5232,0.5544,0.6248,1.    ]\n",
            "size of cluster: 22\n",
            "\n",
            "centroid of cluster 1:\n",
            "[0.3684,0.4338,0.4356,0.4388,0.3573,0.2988,0.3673,0.    ]\n",
            "size of cluster: 31\n",
            "\n",
            "centroid of cluster 2:\n",
            "[0.3658,0.3854,0.7563,0.3093,0.4659,0.3691,0.2413,0.    ]\n",
            "size of cluster: 20\n",
            "\n",
            "centroid of cluster 3:\n",
            "[0.1634,0.2137,0.3968,0.2178,0.1555,0.3078,0.1775,0.    ]\n",
            "size of cluster: 19\n",
            "\n",
            "centroid of cluster 4:\n",
            "[0.7961,0.831 ,0.6054,0.7709,0.7802,0.4553,0.7919,1.    ]\n",
            "size of cluster: 48\n",
            "\n"
          ]
        }
      ],
      "source": [
        "from scipy.io.arff import loadarff \n",
        "import pandas as pd\n",
        "from sklearn.preprocessing import LabelEncoder\n",
        "from sklearn.preprocessing import MinMaxScaler\n",
        "# Load evaluation data\n",
        "raw_data = loadarff('/content/drive/MyDrive/School/CS_472_MachLearning/labs/lab5_clustering/data/seismic-bumps_train.arff')\n",
        "df_data = pd.DataFrame(raw_data[0])\n",
        "\n",
        "np_arr = df_data.to_numpy()\n",
        "\n",
        "X = np_arr[:,:].astype(float)\n",
        "X = MinMaxScaler().fit_transform(X)\n",
        "# Train on evaluation data\n",
        "KMeans = KMEANSClustering(k=5,debug=True)\n",
        "KMeans.fit(X)\n",
        "# Print clusters\n",
        "KMeans.print_clusters(X)"
      ]
    },
    {
      "cell_type": "markdown",
      "metadata": {
        "id": "9vWiTdlbR2Xh"
      },
      "source": [
        "## 2.1.1 (7.5%) Clustering the Iris Classification problem - HAC\n",
        "\n",
        "Load the Iris Dataset [Iris Dataset](https://byu.instructure.com/courses/14142/files?preview=4421369)\n",
        "\n",
        "- Use single-link and complete link clustering algorithms\n",
        "- State whether you normalize your data or not (your choice).  \n",
        "- Show your results for clusterings using k = 2-7.  \n",
        "- Graph the silhouette score for each k and discuss your results (i.e. what kind of clusters are being made).\n",
        "---"
      ]
    },
    {
      "cell_type": "code",
      "execution_count": null,
      "metadata": {
        "id": "4SSoasDQSKXb",
        "colab": {
          "base_uri": "https://localhost:8080/",
          "height": 1000
        },
        "outputId": "50fac198-2cb4-4dec-e6dc-d3ee721ea179"
      },
      "outputs": [
        {
          "output_type": "stream",
          "name": "stdout",
          "text": [
            "Normalized Data: YES\n",
            "\n",
            "Num clusters: 2\n",
            "\n",
            "Silhouette score: 0.6295\n",
            "\n",
            "\n",
            "centroid of cluster 0:\n",
            "[0.1961,0.5908,0.0786,0.06  ]\n",
            "size of cluster: 50\n",
            "\n",
            "centroid of cluster 1:\n",
            "[0.545 ,0.3633,0.662 ,0.6567]\n",
            "size of cluster: 100\n",
            "\n",
            "------------------------------------------------------\n",
            "\n",
            "Num clusters: 3\n",
            "\n",
            "Silhouette score: 0.5309\n",
            "\n",
            "\n",
            "centroid of cluster 0:\n",
            "[0.199 ,0.6003,0.0792,0.0595]\n",
            "size of cluster: 49\n",
            "\n",
            "centroid of cluster 1:\n",
            "[0.0556,0.125 ,0.0508,0.0833]\n",
            "size of cluster: 1\n",
            "\n",
            "centroid of cluster 2:\n",
            "[0.545 ,0.3633,0.662 ,0.6567]\n",
            "size of cluster: 100\n",
            "\n",
            "------------------------------------------------------\n",
            "\n",
            "Num clusters: 4\n",
            "\n",
            "Silhouette score: 0.3883\n",
            "\n",
            "\n",
            "centroid of cluster 0:\n",
            "[0.199 ,0.6003,0.0792,0.0595]\n",
            "size of cluster: 49\n",
            "\n",
            "centroid of cluster 1:\n",
            "[0.0556,0.125 ,0.0508,0.0833]\n",
            "size of cluster: 1\n",
            "\n",
            "centroid of cluster 2:\n",
            "[0.5363,0.3554,0.6563,0.6531]\n",
            "size of cluster: 98\n",
            "\n",
            "centroid of cluster 3:\n",
            "[0.9722,0.75  ,0.9407,0.8333]\n",
            "size of cluster: 2\n",
            "\n",
            "------------------------------------------------------\n",
            "\n",
            "Num clusters: 5\n",
            "\n",
            "Silhouette score: 0.2051\n",
            "\n",
            "\n",
            "centroid of cluster 0:\n",
            "[0.199 ,0.6003,0.0792,0.0595]\n",
            "size of cluster: 49\n",
            "\n",
            "centroid of cluster 1:\n",
            "[0.0556,0.125 ,0.0508,0.0833]\n",
            "size of cluster: 1\n",
            "\n",
            "centroid of cluster 2:\n",
            "[0.5401,0.357 ,0.657 ,0.6529]\n",
            "size of cluster: 97\n",
            "\n",
            "centroid of cluster 3:\n",
            "[0.1667,0.2083,0.5932,0.6667]\n",
            "size of cluster: 1\n",
            "\n",
            "centroid of cluster 4:\n",
            "[0.9722,0.75  ,0.9407,0.8333]\n",
            "size of cluster: 2\n",
            "\n",
            "------------------------------------------------------\n",
            "\n",
            "Num clusters: 6\n",
            "\n",
            "Silhouette score: 0.1605\n",
            "\n",
            "\n",
            "centroid of cluster 0:\n",
            "[0.199 ,0.6003,0.0792,0.0595]\n",
            "size of cluster: 49\n",
            "\n",
            "centroid of cluster 1:\n",
            "[0.0556,0.125 ,0.0508,0.0833]\n",
            "size of cluster: 1\n",
            "\n",
            "centroid of cluster 2:\n",
            "[0.5373,0.3537,0.6548,0.6493]\n",
            "size of cluster: 96\n",
            "\n",
            "centroid of cluster 3:\n",
            "[0.1667,0.2083,0.5932,0.6667]\n",
            "size of cluster: 1\n",
            "\n",
            "centroid of cluster 4:\n",
            "[0.8056,0.6667,0.8644,1.    ]\n",
            "size of cluster: 1\n",
            "\n",
            "centroid of cluster 5:\n",
            "[0.9722,0.75  ,0.9407,0.8333]\n",
            "size of cluster: 2\n",
            "\n",
            "------------------------------------------------------\n",
            "\n",
            "Num clusters: 7\n",
            "\n",
            "Silhouette score: 0.1094\n",
            "\n",
            "\n",
            "centroid of cluster 0:\n",
            "[0.199 ,0.6003,0.0792,0.0595]\n",
            "size of cluster: 49\n",
            "\n",
            "centroid of cluster 1:\n",
            "[0.0556,0.125 ,0.0508,0.0833]\n",
            "size of cluster: 1\n",
            "\n",
            "centroid of cluster 2:\n",
            "[0.5386,0.3539,0.6544,0.6461]\n",
            "size of cluster: 95\n",
            "\n",
            "centroid of cluster 3:\n",
            "[0.1667,0.2083,0.5932,0.6667]\n",
            "size of cluster: 1\n",
            "\n",
            "centroid of cluster 4:\n",
            "[0.8056,0.6667,0.8644,1.    ]\n",
            "size of cluster: 1\n",
            "\n",
            "centroid of cluster 5:\n",
            "[0.4167,0.3333,0.6949,0.9583]\n",
            "size of cluster: 1\n",
            "\n",
            "centroid of cluster 6:\n",
            "[0.9722,0.75  ,0.9407,0.8333]\n",
            "size of cluster: 2\n",
            "\n",
            "------------------------------------------------------\n",
            "\n"
          ]
        },
        {
          "output_type": "execute_result",
          "data": {
            "text/plain": [
              "<matplotlib.axes._subplots.AxesSubplot at 0x7f0ed6455950>"
            ]
          },
          "metadata": {},
          "execution_count": 52
        },
        {
          "output_type": "display_data",
          "data": {
            "text/plain": [
              "<Figure size 432x288 with 1 Axes>"
            ],
            "image/png": "[encoded data removed]"
          },
          "metadata": {
            "needs_background": "light"
          }
        }
      ],
      "source": [
        "# Iris Classification using single-link\n",
        "from scipy.io.arff import loadarff \n",
        "import pandas as pd\n",
        "from sklearn.preprocessing import MinMaxScaler\n",
        "from sklearn.preprocessing import LabelEncoder\n",
        "# Load evaluation data\n",
        "raw_data = loadarff('/content/drive/MyDrive/School/CS_472_MachLearning/labs/lab5_clustering/data/iris.arff')\n",
        "df_data = pd.DataFrame(raw_data[0])\n",
        "\n",
        "np_arr = df_data.to_numpy()\n",
        "\n",
        "X = np_arr[:,:-1].astype(float)\n",
        "X = MinMaxScaler().fit_transform(X)\n",
        "\n",
        "silhouette_scores = []\n",
        "ks = []\n",
        "print('Normalized Data: YES\\n')\n",
        "for i in range(2,8):\n",
        "  hac = HACClustering(k=i,link_type='single',dist_type='euclidean')\n",
        "  # Train on evaluation data using single link\n",
        "  hac.fit(X)\n",
        "  # Print clusters\n",
        "  hac.print_clusters(X)\n",
        "  silhouette_scores.append(hac.silhouette_score)\n",
        "  ks.append(i)\n",
        "  print('------------------------------------------------------\\n')\n",
        "\n",
        "dictionary = {'Ks': ks, \"Silhouette Scores\": silhouette_scores}\n",
        "df = pd.DataFrame(dictionary)\n",
        "\n",
        "# Graph classification accuracy over k\n",
        "df.plot(x ='Ks', y='Silhouette Scores', kind = 'line')"
      ]
    },
    {
      "cell_type": "code",
      "execution_count": null,
      "metadata": {
        "id": "nfh0gJvHoXyg",
        "colab": {
          "base_uri": "https://localhost:8080/",
          "height": 1000
        },
        "outputId": "34e1bd24-67f0-44fc-d914-4bee4ac98eb3"
      },
      "outputs": [
        {
          "output_type": "stream",
          "name": "stdout",
          "text": [
            "Normalized Data: YES\n",
            "\n",
            "Num clusters: 2\n",
            "\n",
            "Silhouette score: 0.3039\n",
            "\n",
            "\n",
            "centroid of cluster 0:\n",
            "[0.3436,0.4318,0.367 ,0.3452]\n",
            "size of cluster: 116\n",
            "\n",
            "centroid of cluster 1:\n",
            "[0.719 ,0.4645,0.8106,0.8419]\n",
            "size of cluster: 34\n",
            "\n",
            "------------------------------------------------------\n",
            "\n",
            "Num clusters: 3\n",
            "\n",
            "Silhouette score: 0.5031\n",
            "\n",
            "\n",
            "centroid of cluster 0:\n",
            "[0.1961,0.5908,0.0786,0.06  ]\n",
            "size of cluster: 50\n",
            "\n",
            "centroid of cluster 1:\n",
            "[0.4554,0.3112,0.5855,0.5612]\n",
            "size of cluster: 66\n",
            "\n",
            "centroid of cluster 2:\n",
            "[0.719 ,0.4645,0.8106,0.8419]\n",
            "size of cluster: 34\n",
            "\n",
            "------------------------------------------------------\n",
            "\n",
            "Num clusters: 4\n",
            "\n",
            "Silhouette score: 0.3932\n",
            "\n",
            "\n",
            "centroid of cluster 0:\n",
            "[0.2424,0.6742,0.0827,0.0732]\n",
            "size of cluster: 33\n",
            "\n",
            "centroid of cluster 1:\n",
            "[0.1062,0.4289,0.0708,0.0343]\n",
            "size of cluster: 17\n",
            "\n",
            "centroid of cluster 2:\n",
            "[0.4554,0.3112,0.5855,0.5612]\n",
            "size of cluster: 66\n",
            "\n",
            "centroid of cluster 3:\n",
            "[0.719 ,0.4645,0.8106,0.8419]\n",
            "size of cluster: 34\n",
            "\n",
            "------------------------------------------------------\n",
            "\n",
            "Num clusters: 5\n",
            "\n",
            "Silhouette score: 0.3368\n",
            "\n",
            "\n",
            "centroid of cluster 0:\n",
            "[0.2424,0.6742,0.0827,0.0732]\n",
            "size of cluster: 33\n",
            "\n",
            "centroid of cluster 1:\n",
            "[0.1062,0.4289,0.0708,0.0343]\n",
            "size of cluster: 17\n",
            "\n",
            "centroid of cluster 2:\n",
            "[0.5368,0.3671,0.6432,0.6295]\n",
            "size of cluster: 37\n",
            "\n",
            "centroid of cluster 3:\n",
            "[0.3515,0.2399,0.512 ,0.4741]\n",
            "size of cluster: 29\n",
            "\n",
            "centroid of cluster 4:\n",
            "[0.719 ,0.4645,0.8106,0.8419]\n",
            "size of cluster: 34\n",
            "\n",
            "------------------------------------------------------\n",
            "\n",
            "Num clusters: 6\n",
            "\n",
            "Silhouette score: 0.3292\n",
            "\n",
            "\n",
            "centroid of cluster 0:\n",
            "[0.2424,0.6742,0.0827,0.0732]\n",
            "size of cluster: 33\n",
            "\n",
            "centroid of cluster 1:\n",
            "[0.1062,0.4289,0.0708,0.0343]\n",
            "size of cluster: 17\n",
            "\n",
            "centroid of cluster 2:\n",
            "[0.5368,0.3671,0.6432,0.6295]\n",
            "size of cluster: 37\n",
            "\n",
            "centroid of cluster 3:\n",
            "[0.3515,0.2399,0.512 ,0.4741]\n",
            "size of cluster: 29\n",
            "\n",
            "centroid of cluster 4:\n",
            "[0.6365,0.4601,0.7657,0.8569]\n",
            "size of cluster: 23\n",
            "\n",
            "centroid of cluster 5:\n",
            "[0.8914,0.4735,0.9045,0.8106]\n",
            "size of cluster: 11\n",
            "\n",
            "------------------------------------------------------\n",
            "\n",
            "Num clusters: 7\n",
            "\n",
            "Silhouette score: 0.3244\n",
            "\n",
            "\n",
            "centroid of cluster 0:\n",
            "[0.2424,0.6742,0.0827,0.0732]\n",
            "size of cluster: 33\n",
            "\n",
            "centroid of cluster 1:\n",
            "[0.1062,0.4289,0.0708,0.0343]\n",
            "size of cluster: 17\n",
            "\n",
            "centroid of cluster 2:\n",
            "[0.5604,0.4221,0.6094,0.5779]\n",
            "size of cluster: 23\n",
            "\n",
            "centroid of cluster 3:\n",
            "[0.3515,0.2399,0.512 ,0.4741]\n",
            "size of cluster: 29\n",
            "\n",
            "centroid of cluster 4:\n",
            "[0.498 ,0.2768,0.6985,0.7143]\n",
            "size of cluster: 14\n",
            "\n",
            "centroid of cluster 5:\n",
            "[0.6365,0.4601,0.7657,0.8569]\n",
            "size of cluster: 23\n",
            "\n",
            "centroid of cluster 6:\n",
            "[0.8914,0.4735,0.9045,0.8106]\n",
            "size of cluster: 11\n",
            "\n",
            "------------------------------------------------------\n",
            "\n"
          ]
        },
        {
          "output_type": "execute_result",
          "data": {
            "text/plain": [
              "<matplotlib.axes._subplots.AxesSubplot at 0x7f0ed63cc290>"
            ]
          },
          "metadata": {},
          "execution_count": 53
        },
        {
          "output_type": "display_data",
          "data": {
            "text/plain": [
              "<Figure size 432x288 with 1 Axes>"
            ],
            "image/png": "[encoded data removed]"
          },
          "metadata": {
            "needs_background": "light"
          }
        }
      ],
      "source": [
        "# Iris Classification using complete-link\n",
        "from scipy.io.arff import loadarff \n",
        "import pandas as pd\n",
        "from sklearn.preprocessing import MinMaxScaler\n",
        "from sklearn.preprocessing import LabelEncoder\n",
        "# Load evaluation data\n",
        "raw_data = loadarff('/content/drive/MyDrive/School/CS_472_MachLearning/labs/lab5_clustering/data/iris.arff')\n",
        "df_data = pd.DataFrame(raw_data[0])\n",
        "\n",
        "np_arr = df_data.to_numpy()\n",
        "\n",
        "X = np_arr[:,:-1].astype(float)\n",
        "X = MinMaxScaler().fit_transform(X)\n",
        "\n",
        "silhouette_scores = []\n",
        "ks = []\n",
        "print('Normalized Data: YES\\n')\n",
        "for i in range(2,8):\n",
        "  hac = HACClustering(k=i,link_type='complete',dist_type='euclidean')\n",
        "  # Train on evaluation data using complete link\n",
        "  hac.fit(X)\n",
        "  # Print clusters\n",
        "  hac.print_clusters(X)\n",
        "  silhouette_scores.append(hac.silhouette_score)\n",
        "  ks.append(i)\n",
        "  print('------------------------------------------------------\\n')\n",
        "\n",
        "dictionary = {'Ks': ks, \"Silhouette Scores\": silhouette_scores}\n",
        "df = pd.DataFrame(dictionary)\n",
        "\n",
        "# Graph classification accuracy over k\n",
        "df.plot(x ='Ks', y='Silhouette Scores', kind = 'line')"
      ]
    },
    {
      "cell_type": "markdown",
      "metadata": {
        "id": "YNr-CNqtoXyg"
      },
      "source": [
        "Discuss differences between single-link and complete-link"
      ]
    },
    {
      "cell_type": "markdown",
      "source": [
        "For HAC clustering with no labels in the input data, the single-link method had a higher maximum silhouette score of 0.6295 at k=2 compared to the maximum silhouette score of 0.5031 at k=3 for the complete-link method. Despite the single-link having a higher max silhouette score, the complete-link method captured the idea of there being 3 classifications because at k = 3 is where the max silhouette score happened for complete-link. The complete-link also had tighter range of values for silhouette score than the single-link. the complete-link's silhouette score range was ~0.5 to ~0.3 whereas the silhouette score range for single-link was ~0.6 to ~0.1."
      ],
      "metadata": {
        "id": "gom2_NoCLRXN"
      }
    },
    {
      "cell_type": "markdown",
      "metadata": {
        "id": "c-aDaMkmoXyg"
      },
      "source": [
        "## 2.1.2 (5%) Clustering the Iris Classification problem - HAC\n",
        "\n",
        "Requirements:\n",
        "- Repeat excercise 2.1.1 and include the output label as one of the input features."
      ]
    },
    {
      "cell_type": "code",
      "execution_count": 39,
      "metadata": {
        "id": "k0B1gsuPoXyg",
        "colab": {
          "base_uri": "https://localhost:8080/",
          "height": 1000
        },
        "outputId": "db931a4e-eb61-4635-e73b-92e9d3b0ca89"
      },
      "outputs": [
        {
          "output_type": "stream",
          "name": "stdout",
          "text": [
            "Normalized Data: YES\n",
            "\n",
            "Num clusters: 2\n",
            "\n",
            "Silhouette score: 0.5989\n",
            "\n",
            "\n",
            "centroid of cluster 0:\n",
            "[0.1961,0.5908,0.0786,0.06  ,1.    ,0.    ,0.    ]\n",
            "size of cluster: 50\n",
            "\n",
            "centroid of cluster 1:\n",
            "[0.545 ,0.3633,0.662 ,0.6567,0.    ,0.5   ,0.5   ]\n",
            "size of cluster: 100\n",
            "\n",
            "------------------------------------------------------\n",
            "\n",
            "Num clusters: 3\n",
            "\n",
            "Silhouette score: 0.8131\n",
            "\n",
            "\n",
            "centroid of cluster 0:\n",
            "[0.1961,0.5908,0.0786,0.06  ,1.    ,0.    ,0.    ]\n",
            "size of cluster: 50\n",
            "\n",
            "centroid of cluster 1:\n",
            "[0.4544,0.3208,0.5525,0.5108,0.    ,1.    ,0.    ]\n",
            "size of cluster: 50\n",
            "\n",
            "centroid of cluster 2:\n",
            "[0.6356,0.4058,0.7715,0.8025,0.    ,0.    ,1.    ]\n",
            "size of cluster: 50\n",
            "\n",
            "------------------------------------------------------\n",
            "\n",
            "Num clusters: 4\n",
            "\n",
            "Silhouette score: 0.6782\n",
            "\n",
            "\n",
            "centroid of cluster 0:\n",
            "[0.1961,0.5908,0.0786,0.06  ,1.    ,0.    ,0.    ]\n",
            "size of cluster: 50\n",
            "\n",
            "centroid of cluster 1:\n",
            "[0.4544,0.3208,0.5525,0.5108,0.    ,1.    ,0.    ]\n",
            "size of cluster: 50\n",
            "\n",
            "centroid of cluster 2:\n",
            "[0.6451,0.4099,0.7752,0.8053,0.    ,0.    ,1.    ]\n",
            "size of cluster: 49\n",
            "\n",
            "centroid of cluster 3:\n",
            "[0.1667,0.2083,0.5932,0.6667,0.    ,0.    ,1.    ]\n",
            "size of cluster: 1\n",
            "\n",
            "------------------------------------------------------\n",
            "\n",
            "Num clusters: 5\n",
            "\n",
            "Silhouette score: 0.5624\n",
            "\n",
            "\n",
            "centroid of cluster 0:\n",
            "[0.199 ,0.6003,0.0792,0.0595,1.    ,0.    ,0.    ]\n",
            "size of cluster: 49\n",
            "\n",
            "centroid of cluster 1:\n",
            "[0.0556,0.125 ,0.0508,0.0833,1.    ,0.    ,0.    ]\n",
            "size of cluster: 1\n",
            "\n",
            "centroid of cluster 2:\n",
            "[0.4544,0.3208,0.5525,0.5108,0.    ,1.    ,0.    ]\n",
            "size of cluster: 50\n",
            "\n",
            "centroid of cluster 3:\n",
            "[0.6451,0.4099,0.7752,0.8053,0.    ,0.    ,1.    ]\n",
            "size of cluster: 49\n",
            "\n",
            "centroid of cluster 4:\n",
            "[0.1667,0.2083,0.5932,0.6667,0.    ,0.    ,1.    ]\n",
            "size of cluster: 1\n",
            "\n",
            "------------------------------------------------------\n",
            "\n",
            "Num clusters: 6\n",
            "\n",
            "Silhouette score: 0.5247\n",
            "\n",
            "\n",
            "centroid of cluster 0:\n",
            "[0.199 ,0.6003,0.0792,0.0595,1.    ,0.    ,0.    ]\n",
            "size of cluster: 49\n",
            "\n",
            "centroid of cluster 1:\n",
            "[0.0556,0.125 ,0.0508,0.0833,1.    ,0.    ,0.    ]\n",
            "size of cluster: 1\n",
            "\n",
            "centroid of cluster 2:\n",
            "[0.4544,0.3208,0.5525,0.5108,0.    ,1.    ,0.    ]\n",
            "size of cluster: 50\n",
            "\n",
            "centroid of cluster 3:\n",
            "[0.6312,0.3954,0.7681,0.8041,0.    ,0.    ,1.    ]\n",
            "size of cluster: 47\n",
            "\n",
            "centroid of cluster 4:\n",
            "[0.1667,0.2083,0.5932,0.6667,0.    ,0.    ,1.    ]\n",
            "size of cluster: 1\n",
            "\n",
            "centroid of cluster 5:\n",
            "[0.9722,0.75  ,0.9407,0.8333,0.    ,0.    ,1.    ]\n",
            "size of cluster: 2\n",
            "\n",
            "------------------------------------------------------\n",
            "\n",
            "Num clusters: 7\n",
            "\n",
            "Silhouette score: 0.5011\n",
            "\n",
            "\n",
            "centroid of cluster 0:\n",
            "[0.199 ,0.6003,0.0792,0.0595,1.    ,0.    ,0.    ]\n",
            "size of cluster: 49\n",
            "\n",
            "centroid of cluster 1:\n",
            "[0.0556,0.125 ,0.0508,0.0833,1.    ,0.    ,0.    ]\n",
            "size of cluster: 1\n",
            "\n",
            "centroid of cluster 2:\n",
            "[0.4544,0.3208,0.5525,0.5108,0.    ,1.    ,0.    ]\n",
            "size of cluster: 50\n",
            "\n",
            "centroid of cluster 3:\n",
            "[0.6347,0.4022,0.7701,0.8089,0.    ,0.    ,1.    ]\n",
            "size of cluster: 46\n",
            "\n",
            "centroid of cluster 4:\n",
            "[0.1667,0.2083,0.5932,0.6667,0.    ,0.    ,1.    ]\n",
            "size of cluster: 1\n",
            "\n",
            "centroid of cluster 5:\n",
            "[0.9722,0.75  ,0.9407,0.8333,0.    ,0.    ,1.    ]\n",
            "size of cluster: 2\n",
            "\n",
            "centroid of cluster 6:\n",
            "[0.4722,0.0833,0.678 ,0.5833,0.    ,0.    ,1.    ]\n",
            "size of cluster: 1\n",
            "\n",
            "------------------------------------------------------\n",
            "\n"
          ]
        },
        {
          "output_type": "execute_result",
          "data": {
            "text/plain": [
              "<matplotlib.axes._subplots.AxesSubplot at 0x7fba5cfb0b10>"
            ]
          },
          "metadata": {},
          "execution_count": 39
        },
        {
          "output_type": "display_data",
          "data": {
            "text/plain": [
              "<Figure size 432x288 with 1 Axes>"
            ],
            "image/png": "[encoded data removed]"
          },
          "metadata": {
            "needs_background": "light"
          }
        }
      ],
      "source": [
        "# Clustering Labels using single-link\n",
        "from scipy.io.arff import loadarff \n",
        "import pandas as pd\n",
        "from sklearn.preprocessing import MinMaxScaler\n",
        "from sklearn.preprocessing import LabelEncoder\n",
        "from sklearn.preprocessing import OneHotEncoder\n",
        "from sklearn.preprocessing import LabelBinarizer\n",
        "# Load evaluation data\n",
        "raw_data = loadarff('/content/drive/MyDrive/School/CS_472_MachLearning/labs/lab5_clustering/data/iris.arff')\n",
        "df_data = pd.DataFrame(raw_data[0])\n",
        "\n",
        "np_arr = df_data.to_numpy()\n",
        "\n",
        "X = np_arr[:,:-1].astype(float)\n",
        "X = MinMaxScaler().fit_transform(X)\n",
        "y = np_arr[:,-1]\n",
        "y = LabelEncoder().fit_transform(y)\n",
        "y = np.reshape(y,(y.shape[0],1))\n",
        "y = OneHotEncoder().fit_transform(y).toarray()\n",
        "\n",
        "X_y = np.concatenate((X,y),axis=1)\n",
        "silhouette_scores = []\n",
        "ks = []\n",
        "print('Normalized Data: YES\\n')\n",
        "for i in range(2,8):\n",
        "  hac = HACClustering(k=i,link_type='single',dist_type='euclidean')\n",
        "  # Train on evaluation data using single link\n",
        "  hac.fit(X_y)\n",
        "  # Print clusters\n",
        "  hac.print_clusters(X_y)\n",
        "  silhouette_scores.append(hac.silhouette_score)\n",
        "  ks.append(i)\n",
        "  print('------------------------------------------------------\\n')\n",
        "\n",
        "dictionary = {'Ks': ks, \"Silhouette Scores\": silhouette_scores}\n",
        "df = pd.DataFrame(dictionary)\n",
        "\n",
        "# Graph classification accuracy over k\n",
        "df.plot(x ='Ks', y='Silhouette Scores', kind = 'line')"
      ]
    },
    {
      "cell_type": "code",
      "execution_count": 40,
      "metadata": {
        "id": "6DdaBLR7oXyh",
        "colab": {
          "base_uri": "https://localhost:8080/",
          "height": 1000
        },
        "outputId": "e7348776-90ae-4ac9-96e1-660b880f049e"
      },
      "outputs": [
        {
          "output_type": "stream",
          "name": "stdout",
          "text": [
            "Normalized Data: YES\n",
            "\n",
            "Num clusters: 2\n",
            "\n",
            "Silhouette score: 0.5484\n",
            "\n",
            "\n",
            "centroid of cluster 0:\n",
            "[0.3253,0.4558,0.3156,0.2854,0.5   ,0.5   ,0.    ]\n",
            "size of cluster: 100\n",
            "\n",
            "centroid of cluster 1:\n",
            "[0.6356,0.4058,0.7715,0.8025,0.    ,0.    ,1.    ]\n",
            "size of cluster: 50\n",
            "\n",
            "------------------------------------------------------\n",
            "\n",
            "Num clusters: 3\n",
            "\n",
            "Silhouette score: 0.8131\n",
            "\n",
            "\n",
            "centroid of cluster 0:\n",
            "[0.1961,0.5908,0.0786,0.06  ,1.    ,0.    ,0.    ]\n",
            "size of cluster: 50\n",
            "\n",
            "centroid of cluster 1:\n",
            "[0.4544,0.3208,0.5525,0.5108,0.    ,1.    ,0.    ]\n",
            "size of cluster: 50\n",
            "\n",
            "centroid of cluster 2:\n",
            "[0.6356,0.4058,0.7715,0.8025,0.    ,0.    ,1.    ]\n",
            "size of cluster: 50\n",
            "\n",
            "------------------------------------------------------\n",
            "\n",
            "Num clusters: 4\n",
            "\n",
            "Silhouette score: 0.6677\n",
            "\n",
            "\n",
            "centroid of cluster 0:\n",
            "[0.1961,0.5908,0.0786,0.06  ,1.    ,0.    ,0.    ]\n",
            "size of cluster: 50\n",
            "\n",
            "centroid of cluster 1:\n",
            "[0.4544,0.3208,0.5525,0.5108,0.    ,1.    ,0.    ]\n",
            "size of cluster: 50\n",
            "\n",
            "centroid of cluster 2:\n",
            "[0.7343,0.4708,0.8192,0.8611,0.    ,0.    ,1.    ]\n",
            "size of cluster: 30\n",
            "\n",
            "centroid of cluster 3:\n",
            "[0.4875,0.3083,0.7   ,0.7146,0.    ,0.    ,1.    ]\n",
            "size of cluster: 20\n",
            "\n",
            "------------------------------------------------------\n",
            "\n",
            "Num clusters: 5\n",
            "\n",
            "Silhouette score: 0.5175\n",
            "\n",
            "\n",
            "centroid of cluster 0:\n",
            "[0.2424,0.6742,0.0827,0.0732,1.    ,0.    ,0.    ]\n",
            "size of cluster: 33\n",
            "\n",
            "centroid of cluster 1:\n",
            "[0.1062,0.4289,0.0708,0.0343,1.    ,0.    ,0.    ]\n",
            "size of cluster: 17\n",
            "\n",
            "centroid of cluster 2:\n",
            "[0.4544,0.3208,0.5525,0.5108,0.    ,1.    ,0.    ]\n",
            "size of cluster: 50\n",
            "\n",
            "centroid of cluster 3:\n",
            "[0.7343,0.4708,0.8192,0.8611,0.    ,0.    ,1.    ]\n",
            "size of cluster: 30\n",
            "\n",
            "centroid of cluster 4:\n",
            "[0.4875,0.3083,0.7   ,0.7146,0.    ,0.    ,1.    ]\n",
            "size of cluster: 20\n",
            "\n",
            "------------------------------------------------------\n",
            "\n",
            "Num clusters: 6\n",
            "\n",
            "Silhouette score: 0.3680\n",
            "\n",
            "\n",
            "centroid of cluster 0:\n",
            "[0.2424,0.6742,0.0827,0.0732,1.    ,0.    ,0.    ]\n",
            "size of cluster: 33\n",
            "\n",
            "centroid of cluster 1:\n",
            "[0.1062,0.4289,0.0708,0.0343,1.    ,0.    ,0.    ]\n",
            "size of cluster: 17\n",
            "\n",
            "centroid of cluster 2:\n",
            "[0.578 ,0.4226,0.6045,0.5635,0.    ,1.    ,0.    ]\n",
            "size of cluster: 21\n",
            "\n",
            "centroid of cluster 3:\n",
            "[0.3649,0.2471,0.5149,0.4727,0.    ,1.    ,0.    ]\n",
            "size of cluster: 29\n",
            "\n",
            "centroid of cluster 4:\n",
            "[0.7343,0.4708,0.8192,0.8611,0.    ,0.    ,1.    ]\n",
            "size of cluster: 30\n",
            "\n",
            "centroid of cluster 5:\n",
            "[0.4875,0.3083,0.7   ,0.7146,0.    ,0.    ,1.    ]\n",
            "size of cluster: 20\n",
            "\n",
            "------------------------------------------------------\n",
            "\n",
            "Num clusters: 7\n",
            "\n",
            "Silhouette score: 0.3638\n",
            "\n",
            "\n",
            "centroid of cluster 0:\n",
            "[0.2424,0.6742,0.0827,0.0732,1.    ,0.    ,0.    ]\n",
            "size of cluster: 33\n",
            "\n",
            "centroid of cluster 1:\n",
            "[0.1062,0.4289,0.0708,0.0343,1.    ,0.    ,0.    ]\n",
            "size of cluster: 17\n",
            "\n",
            "centroid of cluster 2:\n",
            "[0.578 ,0.4226,0.6045,0.5635,0.    ,1.    ,0.    ]\n",
            "size of cluster: 21\n",
            "\n",
            "centroid of cluster 3:\n",
            "[0.3649,0.2471,0.5149,0.4727,0.    ,1.    ,0.    ]\n",
            "size of cluster: 29\n",
            "\n",
            "centroid of cluster 4:\n",
            "[0.6433,0.4693,0.7698,0.8904,0.    ,0.    ,1.    ]\n",
            "size of cluster: 19\n",
            "\n",
            "centroid of cluster 5:\n",
            "[0.4875,0.3083,0.7   ,0.7146,0.    ,0.    ,1.    ]\n",
            "size of cluster: 20\n",
            "\n",
            "centroid of cluster 6:\n",
            "[0.8914,0.4735,0.9045,0.8106,0.    ,0.    ,1.    ]\n",
            "size of cluster: 11\n",
            "\n",
            "------------------------------------------------------\n",
            "\n"
          ]
        },
        {
          "output_type": "execute_result",
          "data": {
            "text/plain": [
              "<matplotlib.axes._subplots.AxesSubplot at 0x7fba5cfeea90>"
            ]
          },
          "metadata": {},
          "execution_count": 40
        },
        {
          "output_type": "display_data",
          "data": {
            "text/plain": [
              "<Figure size 432x288 with 1 Axes>"
            ],
            "image/png": "[encoded data removed]"
          },
          "metadata": {
            "needs_background": "light"
          }
        }
      ],
      "source": [
        "# Clustering Labels using complete-link\n",
        "from scipy.io.arff import loadarff \n",
        "import pandas as pd\n",
        "from sklearn.preprocessing import MinMaxScaler\n",
        "from sklearn.preprocessing import LabelEncoder\n",
        "# Load evaluation data\n",
        "raw_data = loadarff('/content/drive/MyDrive/School/CS_472_MachLearning/labs/lab5_clustering/data/iris.arff')\n",
        "df_data = pd.DataFrame(raw_data[0])\n",
        "\n",
        "np_arr = df_data.to_numpy()\n",
        "\n",
        "X = np_arr[:,:-1].astype(float)\n",
        "X = MinMaxScaler().fit_transform(X)\n",
        "y = np_arr[:,-1]\n",
        "y = LabelEncoder().fit_transform(y)\n",
        "y = np.reshape(y,(y.shape[0],1))\n",
        "y = OneHotEncoder().fit_transform(y).toarray()\n",
        "\n",
        "X_y = np.concatenate((X,y),axis=1)\n",
        "silhouette_scores = []\n",
        "ks = []\n",
        "print('Normalized Data: YES\\n')\n",
        "for i in range(2,8):\n",
        "  hac = HACClustering(k=i,link_type='complete',dist_type='euclidean')\n",
        "  # Train on evaluation data using complete link\n",
        "  hac.fit(X_y)\n",
        "  # Print clusters\n",
        "  hac.print_clusters(X_y)\n",
        "  silhouette_scores.append(hac.silhouette_score)\n",
        "  ks.append(i)\n",
        "  print('------------------------------------------------------\\n')\n",
        "\n",
        "dictionary = {'Ks': ks, \"Silhouette Scores\": silhouette_scores}\n",
        "df = pd.DataFrame(dictionary)\n",
        "\n",
        "# Graph classification accuracy over k\n",
        "df.plot(x ='Ks', y='Silhouette Scores', kind = 'line')"
      ]
    },
    {
      "cell_type": "markdown",
      "metadata": {
        "id": "4-fJS48ioXyh"
      },
      "source": [
        "Discuss any differences between the results from 2.1.1 and 2.1.2."
      ]
    },
    {
      "cell_type": "markdown",
      "source": [
        "For HAC clustering including the output labels, both single-link and complete-link performed similarly such that I don't believe that either method is better than the other for the Iris dataset. Both complete- and single-link methods had a max silhouette score of 0.8131 that ocurred at k=3. This seems appropriate based on the fact that there are only 3 classifications. the biggest differences between the two silhouette score trends is that the single-link method has a tighter range of values (0.81,0.5) than the complete-link method (0.81, 0.36). The other main differnce in silhouette score trend is that the falling limb of the complete-link graph is constant slope from k=3 to k=6 whereas the single-lin graph has more discontinuities from k=3 to k=6."
      ],
      "metadata": {
        "id": "J0LnJxkTNe8i"
      }
    },
    {
      "cell_type": "markdown",
      "metadata": {
        "id": "qH4dG40EoXyh"
      },
      "source": [
        "## 2.2.1 (7.5%) Clustering the Iris Classification problem: K-Means\n",
        "\n",
        "Load the Iris Dataset [Iris Dataset](https://byu.instructure.com/courses/14142/files?preview=4421369)\n",
        "\n",
        "Run K-Means on the Iris dataset using the output label as a feature and without using the output label as a feature\n",
        "\n",
        "Requirements:\n",
        "- State whether you normalize your data or not (your choice).  \n",
        "- Show your results for clusterings using k = 2-7.  \n",
        "- Graph the silhouette score for each k and discuss your results (i.e. what kind of clusters are being made).\n",
        "---"
      ]
    },
    {
      "cell_type": "code",
      "execution_count": 48,
      "metadata": {
        "id": "--8DNFb-oXyh",
        "colab": {
          "base_uri": "https://localhost:8080/",
          "height": 1000
        },
        "outputId": "6da14da6-edaa-4ef8-9358-03d8eed0c49f"
      },
      "outputs": [
        {
          "output_type": "stream",
          "name": "stdout",
          "text": [
            "Normalized Data: YES\n",
            "\n",
            "Num clusters: 2\n",
            "\n",
            "number of epochs/iterations to converge:  7\n",
            "Silhouette score: 0.6295\n",
            "\n",
            "\n",
            "centroid of cluster 0:\n",
            "[0.545 ,0.3633,0.662 ,0.6567]\n",
            "size of cluster: 100\n",
            "\n",
            "centroid of cluster 1:\n",
            "[0.1961,0.5908,0.0786,0.06  ]\n",
            "size of cluster: 50\n",
            "\n",
            "------------------------------------------------------\n",
            "\n",
            "Num clusters: 3\n",
            "\n",
            "number of epochs/iterations to converge:  5\n",
            "Silhouette score: 0.5043\n",
            "\n",
            "\n",
            "centroid of cluster 0:\n",
            "[0.1961,0.5908,0.0786,0.06  ]\n",
            "size of cluster: 50\n",
            "\n",
            "centroid of cluster 1:\n",
            "[0.4413,0.3074,0.5757,0.5492]\n",
            "size of cluster: 61\n",
            "\n",
            "centroid of cluster 2:\n",
            "[0.7073,0.4509,0.797 ,0.8248]\n",
            "size of cluster: 39\n",
            "\n",
            "------------------------------------------------------\n",
            "\n",
            "Num clusters: 4\n",
            "\n",
            "number of epochs/iterations to converge:  13\n",
            "Silhouette score: 0.4435\n",
            "\n",
            "\n",
            "centroid of cluster 0:\n",
            "[0.749 ,0.4769,0.8293,0.8673]\n",
            "size of cluster: 27\n",
            "\n",
            "centroid of cluster 1:\n",
            "[0.5496,0.377 ,0.6626,0.6558]\n",
            "size of cluster: 42\n",
            "\n",
            "centroid of cluster 2:\n",
            "[0.1961,0.5908,0.0786,0.06  ]\n",
            "size of cluster: 50\n",
            "\n",
            "centroid of cluster 3:\n",
            "[0.3611,0.246 ,0.5156,0.4745]\n",
            "size of cluster: 31\n",
            "\n",
            "------------------------------------------------------\n",
            "\n",
            "Num clusters: 5\n",
            "\n",
            "number of epochs/iterations to converge:  12\n",
            "Silhouette score: 0.3521\n",
            "\n",
            "\n",
            "centroid of cluster 0:\n",
            "[0.1303,0.476 ,0.0776,0.0465]\n",
            "size of cluster: 26\n",
            "\n",
            "centroid of cluster 1:\n",
            "[0.5381,0.3605,0.6543,0.6357]\n",
            "size of cluster: 43\n",
            "\n",
            "centroid of cluster 2:\n",
            "[0.7343,0.4708,0.8192,0.8611]\n",
            "size of cluster: 30\n",
            "\n",
            "centroid of cluster 3:\n",
            "[0.2674,0.7153,0.0798,0.0747]\n",
            "size of cluster: 24\n",
            "\n",
            "centroid of cluster 4:\n",
            "[0.3457,0.2485,0.4997,0.463 ]\n",
            "size of cluster: 27\n",
            "\n",
            "------------------------------------------------------\n",
            "\n",
            "Num clusters: 6\n",
            "\n",
            "number of epochs/iterations to converge:  17\n",
            "Silhouette score: 0.3372\n",
            "\n",
            "\n",
            "centroid of cluster 0:\n",
            "[0.297 ,0.7949,0.0887,0.0769]\n",
            "size of cluster: 13\n",
            "\n",
            "centroid of cluster 1:\n",
            "[0.2069,0.5958,0.0788,0.0708]\n",
            "size of cluster: 20\n",
            "\n",
            "centroid of cluster 2:\n",
            "[0.1062,0.4289,0.0708,0.0343]\n",
            "size of cluster: 17\n",
            "\n",
            "centroid of cluster 3:\n",
            "[0.3611,0.246 ,0.5156,0.4745]\n",
            "size of cluster: 31\n",
            "\n",
            "centroid of cluster 4:\n",
            "[0.749 ,0.4769,0.8293,0.8673]\n",
            "size of cluster: 27\n",
            "\n",
            "centroid of cluster 5:\n",
            "[0.5496,0.377 ,0.6626,0.6558]\n",
            "size of cluster: 42\n",
            "\n",
            "------------------------------------------------------\n",
            "\n",
            "Num clusters: 7\n",
            "\n",
            "number of epochs/iterations to converge:  5\n",
            "Silhouette score: 0.3189\n",
            "\n",
            "\n",
            "centroid of cluster 0:\n",
            "[0.059 ,0.4583,0.0614,0.0365]\n",
            "size of cluster: 8\n",
            "\n",
            "centroid of cluster 1:\n",
            "[0.3563,0.2371,0.5091,0.4713]\n",
            "size of cluster: 29\n",
            "\n",
            "centroid of cluster 2:\n",
            "[0.3032,0.8021,0.089 ,0.0729]\n",
            "size of cluster: 12\n",
            "\n",
            "centroid of cluster 3:\n",
            "[0.1528,0.4125,0.0746,0.0333]\n",
            "size of cluster: 10\n",
            "\n",
            "centroid of cluster 4:\n",
            "[0.5417,0.375 ,0.6566,0.6419]\n",
            "size of cluster: 42\n",
            "\n",
            "centroid of cluster 5:\n",
            "[0.7385,0.4727,0.8229,0.8635]\n",
            "size of cluster: 29\n",
            "\n",
            "centroid of cluster 6:\n",
            "[0.2083,0.6062,0.0814,0.075 ]\n",
            "size of cluster: 20\n",
            "\n",
            "------------------------------------------------------\n",
            "\n"
          ]
        },
        {
          "output_type": "execute_result",
          "data": {
            "text/plain": [
              "<matplotlib.axes._subplots.AxesSubplot at 0x7fba5ccb4ed0>"
            ]
          },
          "metadata": {},
          "execution_count": 48
        },
        {
          "output_type": "display_data",
          "data": {
            "text/plain": [
              "<Figure size 432x288 with 1 Axes>"
            ],
            "image/png": "[encoded data removed]"
          },
          "metadata": {
            "needs_background": "light"
          }
        }
      ],
      "source": [
        "# Iris Classification without output label\n",
        "from scipy.io.arff import loadarff \n",
        "import pandas as pd\n",
        "from sklearn.preprocessing import MinMaxScaler\n",
        "from sklearn.preprocessing import LabelEncoder\n",
        "# Load evaluation data\n",
        "raw_data = loadarff('/content/drive/MyDrive/School/CS_472_MachLearning/labs/lab5_clustering/data/iris.arff')\n",
        "df_data = pd.DataFrame(raw_data[0])\n",
        "\n",
        "np_arr = df_data.to_numpy()\n",
        "\n",
        "X = np_arr[:,:-1].astype(float)\n",
        "X = MinMaxScaler().fit_transform(X)\n",
        "\n",
        "silhouette_scores = []\n",
        "ks = []\n",
        "print('Normalized Data: YES\\n')\n",
        "for i in range(2,8):\n",
        "  k_means = KMEANSClustering(k=i,debug=False)\n",
        "  # Train on evaluation data using complete link\n",
        "  k_means.fit(X)\n",
        "  # Print clusters\n",
        "  k_means.print_clusters(X)\n",
        "  silhouette_scores.append(k_means.silhouette_score)\n",
        "  ks.append(i)\n",
        "  print('------------------------------------------------------\\n')\n",
        "\n",
        "dictionary = {'Ks': ks, \"Silhouette Scores\": silhouette_scores}\n",
        "df = pd.DataFrame(dictionary)\n",
        "\n",
        "# Graph classification accuracy over k\n",
        "df.plot(x ='Ks', y='Silhouette Scores', kind = 'line')"
      ]
    },
    {
      "cell_type": "code",
      "execution_count": 52,
      "metadata": {
        "id": "yEV6uiMPoXyh",
        "colab": {
          "base_uri": "https://localhost:8080/",
          "height": 1000
        },
        "outputId": "4430b30c-2e34-4d88-a1e4-e2e52b27e171"
      },
      "outputs": [
        {
          "output_type": "stream",
          "name": "stdout",
          "text": [
            "Normalized Data: YES\n",
            "\n",
            "Num clusters: 2\n",
            "\n",
            "number of epochs/iterations to converge:  1\n",
            "Silhouette score: 0.5989\n",
            "\n",
            "\n",
            "centroid of cluster 0:\n",
            "[0.545 ,0.3633,0.662 ,0.6567,0.    ,0.5   ,0.5   ]\n",
            "size of cluster: 100\n",
            "\n",
            "centroid of cluster 1:\n",
            "[0.1961,0.5908,0.0786,0.06  ,1.    ,0.    ,0.    ]\n",
            "size of cluster: 50\n",
            "\n",
            "------------------------------------------------------\n",
            "\n",
            "Num clusters: 3\n",
            "\n",
            "number of epochs/iterations to converge:  1\n",
            "Silhouette score: 0.8131\n",
            "\n",
            "\n",
            "centroid of cluster 0:\n",
            "[0.1961,0.5908,0.0786,0.06  ,1.    ,0.    ,0.    ]\n",
            "size of cluster: 50\n",
            "\n",
            "centroid of cluster 1:\n",
            "[0.4544,0.3208,0.5525,0.5108,0.    ,1.    ,0.    ]\n",
            "size of cluster: 50\n",
            "\n",
            "centroid of cluster 2:\n",
            "[0.6356,0.4058,0.7715,0.8025,0.    ,0.    ,1.    ]\n",
            "size of cluster: 50\n",
            "\n",
            "------------------------------------------------------\n",
            "\n",
            "Num clusters: 4\n",
            "\n",
            "number of epochs/iterations to converge:  2\n",
            "Silhouette score: 0.6709\n",
            "\n",
            "\n",
            "centroid of cluster 0:\n",
            "[0.1961,0.5908,0.0786,0.06  ,1.    ,0.    ,0.    ]\n",
            "size of cluster: 50\n",
            "\n",
            "centroid of cluster 1:\n",
            "[0.4544,0.3208,0.5525,0.5108,0.    ,1.    ,0.    ]\n",
            "size of cluster: 50\n",
            "\n",
            "centroid of cluster 2:\n",
            "[0.75  ,0.483 ,0.8261,0.8642,0.    ,0.    ,1.    ]\n",
            "size of cluster: 27\n",
            "\n",
            "centroid of cluster 3:\n",
            "[0.5012,0.3152,0.7074,0.7301,0.    ,0.    ,1.    ]\n",
            "size of cluster: 23\n",
            "\n",
            "------------------------------------------------------\n",
            "\n",
            "Num clusters: 5\n",
            "\n",
            "number of epochs/iterations to converge:  9\n",
            "Silhouette score: 0.5300\n",
            "\n",
            "\n",
            "centroid of cluster 0:\n",
            "[0.75  ,0.483 ,0.8261,0.8642,0.    ,0.    ,1.    ]\n",
            "size of cluster: 27\n",
            "\n",
            "centroid of cluster 1:\n",
            "[0.1559,0.5162,0.0758,0.0544,1.    ,0.    ,0.    ]\n",
            "size of cluster: 36\n",
            "\n",
            "centroid of cluster 2:\n",
            "[0.5012,0.3152,0.7074,0.7301,0.    ,0.    ,1.    ]\n",
            "size of cluster: 23\n",
            "\n",
            "centroid of cluster 3:\n",
            "[0.2996,0.7827,0.086 ,0.0744,1.    ,0.    ,0.    ]\n",
            "size of cluster: 14\n",
            "\n",
            "centroid of cluster 4:\n",
            "[0.4544,0.3208,0.5525,0.5108,0.    ,1.    ,0.    ]\n",
            "size of cluster: 50\n",
            "\n",
            "------------------------------------------------------\n",
            "\n",
            "Num clusters: 6\n",
            "\n",
            "number of epochs/iterations to converge:  2\n",
            "Silhouette score: 0.6384\n",
            "\n",
            "\n",
            "centroid of cluster 0:\n",
            "[0.6356,0.4058,0.7715,0.8025,0.    ,0.    ,1.    ]\n",
            "size of cluster: 50\n",
            "\n",
            "centroid of cluster 1:\n",
            "[0.3926,0.3917,0.5514,0.5444,0.    ,1.    ,0.    ]\n",
            "size of cluster: 15\n",
            "\n",
            "centroid of cluster 2:\n",
            "[0.1944,0.125 ,0.3856,0.3854,0.    ,1.    ,0.    ]\n",
            "size of cluster: 4\n",
            "\n",
            "centroid of cluster 3:\n",
            "[0.4017,0.1923,0.5111,0.4455,0.    ,1.    ,0.    ]\n",
            "size of cluster: 13\n",
            "\n",
            "centroid of cluster 4:\n",
            "[0.6019,0.3981,0.6205,0.5579,0.    ,1.    ,0.    ]\n",
            "size of cluster: 18\n",
            "\n",
            "centroid of cluster 5:\n",
            "[0.1961,0.5908,0.0786,0.06  ,1.    ,0.    ,0.    ]\n",
            "size of cluster: 50\n",
            "\n",
            "------------------------------------------------------\n",
            "\n",
            "Num clusters: 7\n",
            "\n",
            "number of epochs/iterations to converge:  4\n",
            "Silhouette score: 0.3451\n",
            "\n",
            "\n",
            "centroid of cluster 0:\n",
            "[0.5637,0.408 ,0.6102,0.5677,0.    ,1.    ,0.    ]\n",
            "size of cluster: 24\n",
            "\n",
            "centroid of cluster 1:\n",
            "[0.3536,0.2404,0.4993,0.4583,0.    ,1.    ,0.    ]\n",
            "size of cluster: 26\n",
            "\n",
            "centroid of cluster 2:\n",
            "[0.125 ,0.4792,0.0743,0.0465,1.    ,0.    ,0.    ]\n",
            "size of cluster: 26\n",
            "\n",
            "centroid of cluster 3:\n",
            "[0.2731,0.7118,0.0833,0.0747,1.    ,0.    ,0.    ]\n",
            "size of cluster: 24\n",
            "\n",
            "centroid of cluster 4:\n",
            "[0.5306,0.35  ,0.7119,0.75  ,0.    ,0.    ,1.    ]\n",
            "size of cluster: 20\n",
            "\n",
            "centroid of cluster 5:\n",
            "[0.7553,0.4824,0.8312,0.867 ,0.    ,0.    ,1.    ]\n",
            "size of cluster: 26\n",
            "\n",
            "centroid of cluster 6:\n",
            "[0.3819,0.1875,0.6822,0.6458,0.    ,0.    ,1.    ]\n",
            "size of cluster: 4\n",
            "\n",
            "------------------------------------------------------\n",
            "\n"
          ]
        },
        {
          "output_type": "execute_result",
          "data": {
            "text/plain": [
              "<matplotlib.axes._subplots.AxesSubplot at 0x7fba5cc67390>"
            ]
          },
          "metadata": {},
          "execution_count": 52
        },
        {
          "output_type": "display_data",
          "data": {
            "text/plain": [
              "<Figure size 432x288 with 1 Axes>"
            ],
            "image/png": "[encoded data removed]"
          },
          "metadata": {
            "needs_background": "light"
          }
        }
      ],
      "source": [
        "# Iris Classification with output label\n",
        "from scipy.io.arff import loadarff \n",
        "import pandas as pd\n",
        "from sklearn.preprocessing import MinMaxScaler\n",
        "from sklearn.preprocessing import LabelEncoder\n",
        "# Load evaluation data\n",
        "raw_data = loadarff('/content/drive/MyDrive/School/CS_472_MachLearning/labs/lab5_clustering/data/iris.arff')\n",
        "df_data = pd.DataFrame(raw_data[0])\n",
        "\n",
        "np_arr = df_data.to_numpy()\n",
        "\n",
        "X = np_arr[:,:-1].astype(float)\n",
        "X = MinMaxScaler().fit_transform(X)\n",
        "y = np_arr[:,-1]\n",
        "y = LabelEncoder().fit_transform(y)\n",
        "y = np.reshape(y,(y.shape[0],1))\n",
        "y = OneHotEncoder().fit_transform(y).toarray()\n",
        "\n",
        "X_y = np.concatenate((X,y),axis=1)\n",
        "silhouette_scores = []\n",
        "ks = []\n",
        "print('Normalized Data: YES\\n')\n",
        "for i in range(2,8):\n",
        "  k_means = KMEANSClustering(k=i,debug=False)\n",
        "  # Train on evaluation data using complete link\n",
        "  k_means.fit(X_y)\n",
        "  # Print clusters\n",
        "  k_means.print_clusters(X_y)\n",
        "  silhouette_scores.append(k_means.silhouette_score)\n",
        "  ks.append(i)\n",
        "  print('------------------------------------------------------\\n')\n",
        "\n",
        "dictionary = {'Ks': ks, \"Silhouette Scores\": silhouette_scores}\n",
        "df = pd.DataFrame(dictionary)\n",
        "\n",
        "# Graph classification accuracy over k\n",
        "df.plot(x ='Ks', y='Silhouette Scores', kind = 'line')"
      ]
    },
    {
      "cell_type": "markdown",
      "metadata": {
        "id": "UKqajObToXyi"
      },
      "source": [
        "Compare results and differences between using the output label and excluding the output label"
      ]
    },
    {
      "cell_type": "markdown",
      "source": [
        "For Kmeans there was a significant difference between the results of the data that excluded the labels and the data that inlcuded the labels. As you can see in this graph above (for silhouette score with labels), the highest silhouette score occured at k = 3 and was 0.8131. This makes sense that the highest silhouette score for the dat with labels would ocurr at k = 3 because that is how many iris classifications there are. That silhouette score is also significantly greater than the silhouette score of 0.6295 when the data exlcuded the labels. It's also important to note that the silhouette score for the data with no labels  never increased, but the data that did include the labels did increase from k = 2 to k = 3. From the results of this analysis I think its safe to say that for the Iris dataset the data labels are an important input for k-means clustering."
      ],
      "metadata": {
        "id": "EYa1BGzZIxZ4"
      }
    },
    {
      "cell_type": "markdown",
      "metadata": {
        "id": "a7J9d3gMoXyi"
      },
      "source": [
        "## 2.2.2 (5%) Clustering the Iris Classification problem: K-Means\n",
        "\n",
        "Requirements:\n",
        "- Use the output label as an input feature\n",
        "- Run K-Means 5 times with k=4, each time with different initial random centroids and discuss any variations in the results. "
      ]
    },
    {
      "cell_type": "code",
      "execution_count": 45,
      "metadata": {
        "id": "vZq6whiroXyi",
        "colab": {
          "base_uri": "https://localhost:8080/",
          "height": 1000
        },
        "outputId": "9d2c9702-65db-4fb0-8d2c-ee429ed6bb7b"
      },
      "outputs": [
        {
          "output_type": "stream",
          "name": "stdout",
          "text": [
            "Normalized Data: YES\n",
            "\n",
            "Num clusters: 4\n",
            "\n",
            "number of epochs/iterations to converge:  2\n",
            "Silhouette score: 0.6673\n",
            "\n",
            "\n",
            "centroid of cluster 0:\n",
            "[0.2589,0.6949,0.0823,0.0774,1.    ,0.    ,0.    ]\n",
            "size of cluster: 28\n",
            "\n",
            "centroid of cluster 1:\n",
            "[0.6356,0.4058,0.7715,0.8025,0.    ,0.    ,1.    ]\n",
            "size of cluster: 50\n",
            "\n",
            "centroid of cluster 2:\n",
            "[0.1162,0.4583,0.074 ,0.0379,1.    ,0.    ,0.    ]\n",
            "size of cluster: 22\n",
            "\n",
            "centroid of cluster 3:\n",
            "[0.4544,0.3208,0.5525,0.5108,0.    ,1.    ,0.    ]\n",
            "size of cluster: 50\n",
            "\n",
            "------------------------------------------------------\n",
            "\n",
            "Num clusters: 4\n",
            "\n",
            "number of epochs/iterations to converge:  2\n",
            "Silhouette score: 0.6668\n",
            "\n",
            "\n",
            "centroid of cluster 0:\n",
            "[0.1961,0.5908,0.0786,0.06  ,1.    ,0.    ,0.    ]\n",
            "size of cluster: 50\n",
            "\n",
            "centroid of cluster 1:\n",
            "[0.6356,0.4058,0.7715,0.8025,0.    ,0.    ,1.    ]\n",
            "size of cluster: 50\n",
            "\n",
            "centroid of cluster 2:\n",
            "[0.5637,0.408 ,0.6102,0.5677,0.    ,1.    ,0.    ]\n",
            "size of cluster: 24\n",
            "\n",
            "centroid of cluster 3:\n",
            "[0.3536,0.2404,0.4993,0.4583,0.    ,1.    ,0.    ]\n",
            "size of cluster: 26\n",
            "\n",
            "------------------------------------------------------\n",
            "\n",
            "Num clusters: 4\n",
            "\n",
            "number of epochs/iterations to converge:  3\n",
            "Silhouette score: 0.6665\n",
            "\n",
            "\n",
            "centroid of cluster 0:\n",
            "[0.6356,0.4058,0.7715,0.8025,0.    ,0.    ,1.    ]\n",
            "size of cluster: 50\n",
            "\n",
            "centroid of cluster 1:\n",
            "[0.1961,0.5908,0.0786,0.06  ,1.    ,0.    ,0.    ]\n",
            "size of cluster: 50\n",
            "\n",
            "centroid of cluster 2:\n",
            "[0.3505,0.2044,0.4851,0.4464,0.    ,1.    ,0.    ]\n",
            "size of cluster: 21\n",
            "\n",
            "centroid of cluster 3:\n",
            "[0.5297,0.4052,0.6014,0.5575,0.    ,1.    ,0.    ]\n",
            "size of cluster: 29\n",
            "\n",
            "------------------------------------------------------\n",
            "\n",
            "Num clusters: 4\n",
            "\n",
            "number of epochs/iterations to converge:  12\n",
            "Silhouette score: 0.6709\n",
            "\n",
            "\n",
            "centroid of cluster 0:\n",
            "[0.1961,0.5908,0.0786,0.06  ,1.    ,0.    ,0.    ]\n",
            "size of cluster: 50\n",
            "\n",
            "centroid of cluster 1:\n",
            "[0.5012,0.3152,0.7074,0.7301,0.    ,0.    ,1.    ]\n",
            "size of cluster: 23\n",
            "\n",
            "centroid of cluster 2:\n",
            "[0.4544,0.3208,0.5525,0.5108,0.    ,1.    ,0.    ]\n",
            "size of cluster: 50\n",
            "\n",
            "centroid of cluster 3:\n",
            "[0.75  ,0.483 ,0.8261,0.8642,0.    ,0.    ,1.    ]\n",
            "size of cluster: 27\n",
            "\n",
            "------------------------------------------------------\n",
            "\n",
            "Num clusters: 4\n",
            "\n",
            "number of epochs/iterations to converge:  3\n",
            "Silhouette score: 0.6665\n",
            "\n",
            "\n",
            "centroid of cluster 0:\n",
            "[0.6356,0.4058,0.7715,0.8025,0.    ,0.    ,1.    ]\n",
            "size of cluster: 50\n",
            "\n",
            "centroid of cluster 1:\n",
            "[0.3505,0.2044,0.4851,0.4464,0.    ,1.    ,0.    ]\n",
            "size of cluster: 21\n",
            "\n",
            "centroid of cluster 2:\n",
            "[0.5297,0.4052,0.6014,0.5575,0.    ,1.    ,0.    ]\n",
            "size of cluster: 29\n",
            "\n",
            "centroid of cluster 3:\n",
            "[0.1961,0.5908,0.0786,0.06  ,1.    ,0.    ,0.    ]\n",
            "size of cluster: 50\n",
            "\n",
            "------------------------------------------------------\n",
            "\n"
          ]
        },
        {
          "output_type": "execute_result",
          "data": {
            "text/plain": [
              "<matplotlib.axes._subplots.AxesSubplot at 0x7fba5ce18650>"
            ]
          },
          "metadata": {},
          "execution_count": 45
        },
        {
          "output_type": "display_data",
          "data": {
            "text/plain": [
              "<Figure size 432x288 with 1 Axes>"
            ],
            "image/png": "[encoded data removed]"
          },
          "metadata": {
            "needs_background": "light"
          }
        }
      ],
      "source": [
        "#K-Means 5 times\n",
        "\n",
        "# Iris Classification with output label\n",
        "from scipy.io.arff import loadarff \n",
        "import pandas as pd\n",
        "from sklearn.preprocessing import MinMaxScaler\n",
        "from sklearn.preprocessing import LabelEncoder\n",
        "# Load evaluation data\n",
        "raw_data = loadarff('/content/drive/MyDrive/School/CS_472_MachLearning/labs/lab5_clustering/data/iris.arff')\n",
        "df_data = pd.DataFrame(raw_data[0])\n",
        "\n",
        "np_arr = df_data.to_numpy()\n",
        "\n",
        "X = np_arr[:,:-1].astype(float)\n",
        "X = MinMaxScaler().fit_transform(X)\n",
        "y = np_arr[:,-1]\n",
        "y = LabelEncoder().fit_transform(y)\n",
        "y = np.reshape(y,(y.shape[0],1))\n",
        "y = OneHotEncoder().fit_transform(y).toarray()\n",
        "\n",
        "X_y = np.concatenate((X,y),axis=1)\n",
        "silhouette_scores = []\n",
        "trials = []\n",
        "print('Normalized Data: YES\\n')\n",
        "for i in range(5):\n",
        "  k_means = KMEANSClustering(k=4,debug=False)\n",
        "  # Train on evaluation data using complete link\n",
        "  k_means.fit(X_y)\n",
        "  # Print clusters\n",
        "  k_means.print_clusters(X_y)\n",
        "  silhouette_scores.append(k_means.silhouette_score)\n",
        "  trials.append(i)\n",
        "  print('------------------------------------------------------\\n')\n",
        "\n",
        "dictionary = {'trial': trials, \"Silhouette Scores\": silhouette_scores}\n",
        "df = pd.DataFrame(dictionary)\n",
        "\n",
        "# Graph classification accuracy over k\n",
        "df.plot(x ='trial', y='Silhouette Scores', kind = 'line')"
      ]
    },
    {
      "cell_type": "markdown",
      "metadata": {
        "id": "fcQFpc9QoXyi"
      },
      "source": [
        "Discuss any variations in the results"
      ]
    },
    {
      "cell_type": "markdown",
      "source": [
        "Although the graph seems to show that there is significant variation in the silhouette score, the variation is actually minimal such that it is not significant for k=4 for 5 trials. from this limited analysis it would seem that there is little significance in variation between trials when parameters are kept constant and all that is changed is the initial centroids. Further analysis though could show that the variation between multiple trials is more significant. "
      ],
      "metadata": {
        "id": "qth9UhoKHa9D"
      }
    },
    {
      "cell_type": "markdown",
      "metadata": {
        "id": "oBBmeNQ7jvcQ"
      },
      "source": [
        "## 3.1 (12.5%) Run the SK versions of HAC (both single and complete link) on iris including the output label and compare your results with those above.\n",
        "Use the silhouette score for this iris problem(k = 2-7).  You may write your own code to do silhouette (optional extra credit) or you can use sklearn.metrics.silhouette_score. Please state if you coded your own silhouette score function to receive the extra credit points (described below). Discuss how helpful Silhouette appeared to be for selecting which clustering is best. You do not need to supply full Silhouette graphs, but you could if you wanted to.\n",
        "\n",
        "Requirements\n",
        "- Use the Sillhouette score for this iris problem (k= 2-7) \n",
        "- Use at least one other scoring function from [sklearn.metrics](https://scikit-learn.org/stable/modules/model_evaluation.html) and compare the results. State which metric was used. \n",
        "- Possible sklean metrics include (* metrics require ground truth labels):\n",
        "    - adjusted_mutual_info_score*\n",
        "    - adjusted_rand_score*\n",
        "    - homogeneity_score*\n",
        "    - completeness_score*\n",
        "    - fowlkes_mallows_score*\n",
        "    - calinski_harabasz_score\n",
        "    - davies_bouldin_score\n",
        "- Experiment using different hyper-parameters. Discuss Results"
      ]
    },
    {
      "cell_type": "code",
      "execution_count": 61,
      "metadata": {
        "id": "OFQv70W2VyqJ",
        "colab": {
          "base_uri": "https://localhost:8080/",
          "height": 886
        },
        "outputId": "4a22ea07-4f69-4ca6-a1db-040dbceaa2f3"
      },
      "outputs": [
        {
          "output_type": "stream",
          "name": "stdout",
          "text": [
            "HAC Single-Link:\n",
            "\n",
            "Normalized Data: YES\n",
            "\n",
            "silhouette score for k=2:  0.5988612190229297\n",
            "Calinski Harabasz score for k=2:  188.1314726727017\n",
            "Davies Bouldin score for k=2:  0.6101314707989617\n",
            "------------------------------------------------------\n",
            "\n",
            "silhouette score for k=3:  0.8131378567546472\n",
            "Calinski Harabasz score for k=3:  1253.4859733916735\n",
            "Davies Bouldin score for k=3:  0.27570141291457895\n",
            "------------------------------------------------------\n",
            "\n",
            "silhouette score for k=4:  0.6782190567177897\n",
            "Calinski Harabasz score for k=4:  866.913947975697\n",
            "Davies Bouldin score for k=4:  0.3344961305381081\n",
            "------------------------------------------------------\n",
            "\n",
            "silhouette score for k=5:  0.5624025945863196\n",
            "Calinski Harabasz score for k=5:  668.555249550202\n",
            "Davies Bouldin score for k=5:  0.349175676677364\n",
            "------------------------------------------------------\n",
            "\n",
            "silhouette score for k=6:  0.5247366463547262\n",
            "Calinski Harabasz score for k=6:  574.6389301642629\n",
            "Davies Bouldin score for k=6:  0.3957808957414793\n",
            "------------------------------------------------------\n",
            "\n",
            "silhouette score for k=7:  0.5011020901528737\n",
            "Calinski Harabasz score for k=7:  489.5182549617373\n",
            "Davies Bouldin score for k=7:  0.40697646512319613\n",
            "------------------------------------------------------\n",
            "\n"
          ]
        },
        {
          "output_type": "execute_result",
          "data": {
            "text/plain": [
              "<matplotlib.axes._subplots.AxesSubplot at 0x7fba5c2d8890>"
            ]
          },
          "metadata": {},
          "execution_count": 61
        },
        {
          "output_type": "display_data",
          "data": {
            "text/plain": [
              "<Figure size 432x288 with 1 Axes>"
            ],
            "image/png": "[encoded data removed]"
          },
          "metadata": {
            "needs_background": "light"
          }
        }
      ],
      "source": [
        "# Clustering Labels using single-link\n",
        "from sklearn.cluster import AgglomerativeClustering\n",
        "from scipy.io.arff import loadarff \n",
        "import pandas as pd\n",
        "from sklearn.preprocessing import MinMaxScaler\n",
        "from sklearn.preprocessing import LabelEncoder\n",
        "from sklearn.metrics import calinski_harabasz_score\n",
        "from sklearn.metrics import davies_bouldin_score\n",
        "# Load evaluation data\n",
        "raw_data = loadarff('/content/drive/MyDrive/School/CS_472_MachLearning/labs/lab5_clustering/data/iris.arff')\n",
        "df_data = pd.DataFrame(raw_data[0])\n",
        "\n",
        "np_arr = df_data.to_numpy()\n",
        "\n",
        "X = np_arr[:,:-1].astype(float)\n",
        "X = MinMaxScaler().fit_transform(X)\n",
        "y = np_arr[:,-1]\n",
        "y = LabelEncoder().fit_transform(y)\n",
        "y = np.reshape(y,(y.shape[0],1))\n",
        "y = OneHotEncoder().fit_transform(y).toarray()\n",
        "\n",
        "X_y = np.concatenate((X,y),axis=1)\n",
        "silhouette_scores = []\n",
        "calinski_scores = []\n",
        "davies_scores = []\n",
        "ks = []\n",
        "print('HAC Single-Link:\\n')\n",
        "print('Normalized Data: YES\\n')\n",
        "for i in range(2,8):\n",
        "  hac = AgglomerativeClustering(n_clusters=i,affinity='euclidean',linkage='single')\n",
        "  # Train on evaluation data using complete link\n",
        "  hac.fit(X_y)\n",
        "  labels = hac.fit_predict(X_y)\n",
        "  # Print clusters\n",
        "  sil_score = silhouette_score(X_y,labels)\n",
        "  silhouette_scores.append(sil_score)\n",
        "\n",
        "  cal_har_score = calinski_harabasz_score(X_y,labels)\n",
        "  calinski_scores.append(cal_har_score)\n",
        "\n",
        "  dav_bouldin_score = davies_bouldin_score(X_y,labels)\n",
        "  davies_scores.append(dav_bouldin_score)\n",
        "\n",
        "  ks.append(i)\n",
        "  print(f'silhouette score for k={i}: ',sil_score)\n",
        "  print(f'Calinski Harabasz score for k={i}: ',cal_har_score)\n",
        "  print(f'Davies Bouldin score for k={i}: ',dav_bouldin_score)\n",
        "  print('------------------------------------------------------\\n')\n",
        "\n",
        "dictionary = {'Ks': ks, \"Silhouette Scores\": silhouette_scores}\n",
        "df = pd.DataFrame(dictionary)\n",
        "\n",
        "# Graph classification accuracy over k\n",
        "df.plot(x ='Ks', y='Silhouette Scores', kind = 'line')"
      ]
    },
    {
      "cell_type": "code",
      "source": [
        "# Clustering Labels using single-link\n",
        "from sklearn.cluster import AgglomerativeClustering\n",
        "from scipy.io.arff import loadarff \n",
        "import pandas as pd\n",
        "from sklearn.preprocessing import MinMaxScaler\n",
        "from sklearn.preprocessing import LabelEncoder\n",
        "from sklearn.metrics import calinski_harabasz_score\n",
        "from sklearn.metrics import davies_bouldin_score\n",
        "# Load evaluation data\n",
        "raw_data = loadarff('/content/drive/MyDrive/School/CS_472_MachLearning/labs/lab5_clustering/data/iris.arff')\n",
        "df_data = pd.DataFrame(raw_data[0])\n",
        "\n",
        "np_arr = df_data.to_numpy()\n",
        "\n",
        "X = np_arr[:,:-1].astype(float)\n",
        "X = MinMaxScaler().fit_transform(X)\n",
        "y = np_arr[:,-1]\n",
        "y = LabelEncoder().fit_transform(y)\n",
        "y = np.reshape(y,(y.shape[0],1))\n",
        "y = OneHotEncoder().fit_transform(y).toarray()\n",
        "\n",
        "X_y = np.concatenate((X,y),axis=1)\n",
        "silhouette_scores = []\n",
        "calinski_scores = []\n",
        "davies_scores = []\n",
        "ks = []\n",
        "print('HAC Complete-Link:\\n')\n",
        "print('Normalized Data: YES\\n')\n",
        "for i in range(2,8):\n",
        "  hac = AgglomerativeClustering(n_clusters=i,affinity='euclidean',linkage='complete')\n",
        "  # Train on evaluation data using complete link\n",
        "  hac.fit(X_y)\n",
        "  labels = hac.fit_predict(X_y)\n",
        "  # Print clusters\n",
        "  sil_score = silhouette_score(X_y,labels)\n",
        "  silhouette_scores.append(sil_score)\n",
        "\n",
        "  cal_har_score = calinski_harabasz_score(X_y,labels)\n",
        "  calinski_scores.append(cal_har_score)\n",
        "\n",
        "  dav_bouldin_score = davies_bouldin_score(X_y,labels)\n",
        "  davies_scores.append(dav_bouldin_score)\n",
        "\n",
        "  ks.append(i)\n",
        "  print(f'silhouette score for k={i}: ',sil_score)\n",
        "  print(f'Calinski Harabasz score for k={i}: ',cal_har_score)\n",
        "  print(f'Davies Bouldin score for k={i}: ',dav_bouldin_score)\n",
        "  print('------------------------------------------------------\\n')\n",
        "\n",
        "dictionary = {'Ks': ks, \"Silhouette Scores\": silhouette_scores}\n",
        "df = pd.DataFrame(dictionary)\n",
        "\n",
        "# Graph classification accuracy over k\n",
        "df.plot(x ='Ks', y='Silhouette Scores', kind = 'line')"
      ],
      "metadata": {
        "colab": {
          "base_uri": "https://localhost:8080/",
          "height": 886
        },
        "id": "50zMdohlZZkv",
        "outputId": "f54456a5-21d1-40b8-fbd3-4d98e7a4a338"
      },
      "execution_count": 62,
      "outputs": [
        {
          "output_type": "stream",
          "name": "stdout",
          "text": [
            "HAC Complete-Link:\n",
            "\n",
            "Normalized Data: YES\n",
            "\n",
            "silhouette score for k=2:  0.548424623848271\n",
            "Calinski Harabasz score for k=2:  142.10076499535612\n",
            "Davies Bouldin score for k=2:  0.7386654758385804\n",
            "------------------------------------------------------\n",
            "\n",
            "silhouette score for k=3:  0.8131378567546472\n",
            "Calinski Harabasz score for k=3:  1253.4859733916735\n",
            "Davies Bouldin score for k=3:  0.27570141291457895\n",
            "------------------------------------------------------\n",
            "\n",
            "silhouette score for k=4:  0.667672547354018\n",
            "Calinski Harabasz score for k=4:  1034.433466253868\n",
            "Davies Bouldin score for k=4:  0.6322806795898261\n",
            "------------------------------------------------------\n",
            "\n",
            "silhouette score for k=5:  0.5174620340158975\n",
            "Calinski Harabasz score for k=5:  904.2881739107004\n",
            "Davies Bouldin score for k=5:  0.7775745106793144\n",
            "------------------------------------------------------\n",
            "\n",
            "silhouette score for k=6:  0.36802009118319245\n",
            "Calinski Harabasz score for k=6:  913.589648484823\n",
            "Davies Bouldin score for k=6:  0.9281047009560722\n",
            "------------------------------------------------------\n",
            "\n",
            "silhouette score for k=7:  0.363787032445675\n",
            "Calinski Harabasz score for k=7:  881.9631005249685\n",
            "Davies Bouldin score for k=7:  0.9544619035234987\n",
            "------------------------------------------------------\n",
            "\n"
          ]
        },
        {
          "output_type": "execute_result",
          "data": {
            "text/plain": [
              "<matplotlib.axes._subplots.AxesSubplot at 0x7fba5c254090>"
            ]
          },
          "metadata": {},
          "execution_count": 62
        },
        {
          "output_type": "display_data",
          "data": {
            "text/plain": [
              "<Figure size 432x288 with 1 Axes>"
            ],
            "image/png": "[encoded data removed]"
          },
          "metadata": {
            "needs_background": "light"
          }
        }
      ]
    },
    {
      "cell_type": "markdown",
      "metadata": {
        "id": "BqSFAXwlk3Ms"
      },
      "source": [
        "*Record impressions*"
      ]
    },
    {
      "cell_type": "markdown",
      "source": [
        "All three of the metrics that I used were useful in identifying the best clustering. For both single- and complete-link, the silhouette score at k=3 was 0.8131, the Calinski Harabasz score for k=3 was 1253, and the Davies Bouldin score for k=3 was 0.2757. This silhouette score and calinski harabasz score were the maximums for all values of k, and the davies bouldin score was the minimum score for all values of k. Because these scores were either maximums or a minimum, they were effective in identifying k=3 as the best number of clusters."
      ],
      "metadata": {
        "id": "GrsOobeWZ14G"
      }
    },
    {
      "cell_type": "markdown",
      "metadata": {
        "id": "0Eu5-ZkCoXyk"
      },
      "source": [
        "## 3.2 (12.5%) Run the SK version of k-means on iris including the output label and compare your results with those above. \n",
        "\n",
        "Use the silhouette score for this iris problem(k = 2-7). You may write your own code to do silhouette (optional extra credit) or you can use sklearn.metrics.silhouette_score. Please state if you coded your own silhouette score function to receive the extra credit points (described below). Discuss how helpful Silhouette appeared to be for selecting which clustering is best. You do not need to supply full Silhouette graphs, but you could if you wanted to.\n",
        "\n",
        "Requirements\n",
        "- Use the Sillhouette score for this iris problem (k= 2-7) \n",
        "- Use at least one other scoring function form sklearn.metrics and compare the results. State which metric was used\n",
        "- Experiment different hyper-parameters. Discuss Results"
      ]
    },
    {
      "cell_type": "code",
      "execution_count": 64,
      "metadata": {
        "id": "3JGikzJhoXyk",
        "colab": {
          "base_uri": "https://localhost:8080/",
          "height": 886
        },
        "outputId": "8657c799-02c7-45d4-99c4-a496acc855b0"
      },
      "outputs": [
        {
          "output_type": "stream",
          "name": "stdout",
          "text": [
            "KMeans:\n",
            "\n",
            "Normalized Data: YES\n",
            "\n",
            "silhouette score for k=2:  0.5988612190229297\n",
            "Calinski Harabasz score for k=2:  188.1314726727017\n",
            "Davies Bouldin score for k=2:  0.6101314707989617\n",
            "------------------------------------------------------\n",
            "\n",
            "silhouette score for k=3:  0.8131378567546472\n",
            "Calinski Harabasz score for k=3:  1253.4859733916735\n",
            "Davies Bouldin score for k=3:  0.27570141291457895\n",
            "------------------------------------------------------\n",
            "\n",
            "silhouette score for k=4:  0.670893568212392\n",
            "Calinski Harabasz score for k=4:  1041.501336721045\n",
            "Davies Bouldin score for k=4:  0.6379942600566665\n",
            "------------------------------------------------------\n",
            "\n",
            "silhouette score for k=5:  0.5281203266089715\n",
            "Calinski Harabasz score for k=5:  967.5329252407487\n",
            "Davies Bouldin score for k=5:  0.8327494220744358\n",
            "------------------------------------------------------\n",
            "\n",
            "silhouette score for k=6:  0.3827958016015561\n",
            "Calinski Harabasz score for k=6:  952.4237831034374\n",
            "Davies Bouldin score for k=6:  0.9312331745363597\n",
            "------------------------------------------------------\n",
            "\n",
            "silhouette score for k=7:  0.38473806176225256\n",
            "Calinski Harabasz score for k=7:  912.909781871453\n",
            "Davies Bouldin score for k=7:  0.9248962374268798\n",
            "------------------------------------------------------\n",
            "\n"
          ]
        },
        {
          "output_type": "execute_result",
          "data": {
            "text/plain": [
              "<matplotlib.axes._subplots.AxesSubplot at 0x7fba5b8ec410>"
            ]
          },
          "metadata": {},
          "execution_count": 64
        },
        {
          "output_type": "display_data",
          "data": {
            "text/plain": [
              "<Figure size 432x288 with 1 Axes>"
            ],
            "image/png": "[encoded data removed]"
          },
          "metadata": {
            "needs_background": "light"
          }
        }
      ],
      "source": [
        "# Load sklearn \n",
        "from sklearn.cluster import KMeans\n",
        "from scipy.io.arff import loadarff \n",
        "import pandas as pd\n",
        "from sklearn.preprocessing import MinMaxScaler\n",
        "from sklearn.preprocessing import LabelEncoder\n",
        "from sklearn.metrics import calinski_harabasz_score\n",
        "from sklearn.metrics import davies_bouldin_score\n",
        "# Load evaluation data\n",
        "raw_data = loadarff('/content/drive/MyDrive/School/CS_472_MachLearning/labs/lab5_clustering/data/iris.arff')\n",
        "df_data = pd.DataFrame(raw_data[0])\n",
        "\n",
        "np_arr = df_data.to_numpy()\n",
        "\n",
        "X = np_arr[:,:-1].astype(float)\n",
        "X = MinMaxScaler().fit_transform(X)\n",
        "y = np_arr[:,-1]\n",
        "y = LabelEncoder().fit_transform(y)\n",
        "y = np.reshape(y,(y.shape[0],1))\n",
        "y = OneHotEncoder().fit_transform(y).toarray()\n",
        "\n",
        "X_y = np.concatenate((X,y),axis=1)\n",
        "silhouette_scores = []\n",
        "calinski_scores = []\n",
        "davies_scores = []\n",
        "ks = []\n",
        "print('KMeans:\\n')\n",
        "print('Normalized Data: YES\\n')\n",
        "for i in range(2,8):\n",
        "  k_means = KMeans(n_clusters=i)\n",
        "  # Train on evaluation data using complete link\n",
        "  k_means.fit(X_y)\n",
        "  labels = k_means.fit_predict(X_y)\n",
        "  # Print clusters\n",
        "  sil_score = silhouette_score(X_y,labels)\n",
        "  silhouette_scores.append(sil_score)\n",
        "\n",
        "  cal_har_score = calinski_harabasz_score(X_y,labels)\n",
        "  calinski_scores.append(cal_har_score)\n",
        "\n",
        "  dav_bouldin_score = davies_bouldin_score(X_y,labels)\n",
        "  davies_scores.append(dav_bouldin_score)\n",
        "\n",
        "  ks.append(i)\n",
        "  print(f'silhouette score for k={i}: ',sil_score)\n",
        "  print(f'Calinski Harabasz score for k={i}: ',cal_har_score)\n",
        "  print(f'Davies Bouldin score for k={i}: ',dav_bouldin_score)\n",
        "  print('------------------------------------------------------\\n')\n",
        "\n",
        "dictionary = {'Ks': ks, \"Silhouette Scores\": silhouette_scores}\n",
        "df = pd.DataFrame(dictionary)\n",
        "\n",
        "# Graph classification accuracy over k\n",
        "df.plot(x ='Ks', y='Silhouette Scores', kind = 'line')\n"
      ]
    },
    {
      "cell_type": "markdown",
      "metadata": {
        "id": "sNlij_8CoXyk"
      },
      "source": [
        "*Record impressions*"
      ]
    },
    {
      "cell_type": "markdown",
      "source": [
        "The results of Kmeans were similar to that of HAC. In fact,the silhouette score, Calinski Harabasz score, and the Davies Bouldin score for k=3 were the exact same as those of HAC above: 0.8131, 1253, and 0.2757 respectively. As with HAC, I believe that all three of these metrics were effective in determining the best number of clusters for the dataset because silhouette score and calinski harabasz score were at there max at k=3, and the davies bouldin score was at a minimum at k=3. "
      ],
      "metadata": {
        "id": "JQgN03QCeOq_"
      }
    },
    {
      "cell_type": "markdown",
      "metadata": {
        "id": "cTlK-kijk8Mg"
      },
      "source": [
        "## 4. (Optional 5% extra credit) For your silhouette experiment above, write and use your own code to calculate the silhouette scores, rather than the SK or other version. \n"
      ]
    },
    {
      "cell_type": "markdown",
      "metadata": {
        "id": "wSPFgdY2oXyk"
      },
      "source": [
        "*Show findings here*"
      ]
    },
    {
      "cell_type": "code",
      "execution_count": null,
      "metadata": {
        "id": "lYsVb8AcoXyl"
      },
      "outputs": [],
      "source": [
        "# Copy function Below"
      ]
    }
  ],
  "metadata": {
    "colab": {
      "collapsed_sections": [],
      "name": "lab_5_Clustering.ipynb",
      "provenance": [],
      "include_colab_link": true
    },
    "kernelspec": {
      "display_name": "Python 3",
      "language": "python",
      "name": "python3"
    },
    "language_info": {
      "codemirror_mode": {
        "name": "ipython",
        "version": 3
      },
      "file_extension": ".py",
      "mimetype": "text/x-python",
      "name": "python",
      "nbconvert_exporter": "python",
      "pygments_lexer": "ipython3",
      "version": "3.6.9"
    }
  },
  "nbformat": 4,
  "nbformat_minor": 0
}